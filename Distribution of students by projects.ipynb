{
 "cells": [
  {
   "cell_type": "code",
   "execution_count": 42,
   "id": "29d5e78b",
   "metadata": {},
   "outputs": [],
   "source": [
    "import numpy as np\n",
    "import pandas as pd\n",
    "import random as rn"
   ]
  },
  {
   "cell_type": "code",
   "execution_count": 43,
   "id": "abfc9e8d",
   "metadata": {},
   "outputs": [
    {
     "data": {
      "text/html": [
       "<div>\n",
       "<style scoped>\n",
       "    .dataframe tbody tr th:only-of-type {\n",
       "        vertical-align: middle;\n",
       "    }\n",
       "\n",
       "    .dataframe tbody tr th {\n",
       "        vertical-align: top;\n",
       "    }\n",
       "\n",
       "    .dataframe thead th {\n",
       "        text-align: right;\n",
       "    }\n",
       "</style>\n",
       "<table border=\"1\" class=\"dataframe\">\n",
       "  <thead>\n",
       "    <tr style=\"text-align: right;\">\n",
       "      <th></th>\n",
       "      <th>project</th>\n",
       "      <th>students</th>\n",
       "    </tr>\n",
       "  </thead>\n",
       "  <tbody>\n",
       "    <tr>\n",
       "      <th>0</th>\n",
       "      <td>0</td>\n",
       "      <td>[0, 1]</td>\n",
       "    </tr>\n",
       "    <tr>\n",
       "      <th>1</th>\n",
       "      <td>1</td>\n",
       "      <td>[2, 3]</td>\n",
       "    </tr>\n",
       "  </tbody>\n",
       "</table>\n",
       "</div>"
      ],
      "text/plain": [
       "   project students\n",
       "0        0   [0, 1]\n",
       "1        1   [2, 3]"
      ]
     },
     "execution_count": 43,
     "metadata": {},
     "output_type": "execute_result"
    }
   ],
   "source": [
    "# распределение студентов по проектам можно представить например \n",
    "# как pandas DataFrame, где номер проекта соответствует списку распределённый на него студентов\n",
    "students = pd.DataFrame([0, 1, 2, 3])\n",
    "projects = pd.DataFrame([0, 1])\n",
    "distribution = pd.DataFrame([(0, [0, 1]), (1, [2, 3])], columns=['project', 'students'])\n",
    "distribution"
   ]
  },
  {
   "cell_type": "code",
   "execution_count": 44,
   "id": "ea2ddbe5",
   "metadata": {},
   "outputs": [],
   "source": [
    "def df_random(shape, a, b):\n",
    "    result = pd.DataFrame()\n",
    "    for i in range(shape[0]):\n",
    "        part_of_result = pd.DataFrame([rn.randint(a, b) for i in range(shape[1])]).T\n",
    "        result = pd.concat([result, part_of_result], ignore_index=True)\n",
    "    return result"
   ]
  },
  {
   "cell_type": "code",
   "execution_count": 45,
   "id": "1ce2cb96",
   "metadata": {},
   "outputs": [
    {
     "data": {
      "text/html": [
       "<div>\n",
       "<style scoped>\n",
       "    .dataframe tbody tr th:only-of-type {\n",
       "        vertical-align: middle;\n",
       "    }\n",
       "\n",
       "    .dataframe tbody tr th {\n",
       "        vertical-align: top;\n",
       "    }\n",
       "\n",
       "    .dataframe thead th {\n",
       "        text-align: right;\n",
       "    }\n",
       "</style>\n",
       "<table border=\"1\" class=\"dataframe\">\n",
       "  <thead>\n",
       "    <tr style=\"text-align: right;\">\n",
       "      <th></th>\n",
       "      <th>0</th>\n",
       "      <th>1</th>\n",
       "      <th>2</th>\n",
       "      <th>3</th>\n",
       "      <th>4</th>\n",
       "      <th>5</th>\n",
       "      <th>6</th>\n",
       "      <th>7</th>\n",
       "      <th>8</th>\n",
       "      <th>9</th>\n",
       "      <th>...</th>\n",
       "      <th>190</th>\n",
       "      <th>191</th>\n",
       "      <th>192</th>\n",
       "      <th>193</th>\n",
       "      <th>194</th>\n",
       "      <th>195</th>\n",
       "      <th>196</th>\n",
       "      <th>197</th>\n",
       "      <th>198</th>\n",
       "      <th>199</th>\n",
       "    </tr>\n",
       "  </thead>\n",
       "  <tbody>\n",
       "    <tr>\n",
       "      <th>0</th>\n",
       "      <td>0</td>\n",
       "      <td>1</td>\n",
       "      <td>0</td>\n",
       "      <td>1</td>\n",
       "      <td>1</td>\n",
       "      <td>1</td>\n",
       "      <td>1</td>\n",
       "      <td>1</td>\n",
       "      <td>0</td>\n",
       "      <td>1</td>\n",
       "      <td>...</td>\n",
       "      <td>0</td>\n",
       "      <td>1</td>\n",
       "      <td>0</td>\n",
       "      <td>1</td>\n",
       "      <td>0</td>\n",
       "      <td>1</td>\n",
       "      <td>0</td>\n",
       "      <td>0</td>\n",
       "      <td>1</td>\n",
       "      <td>1</td>\n",
       "    </tr>\n",
       "  </tbody>\n",
       "</table>\n",
       "<p>1 rows × 200 columns</p>\n",
       "</div>"
      ],
      "text/plain": [
       "   0    1    2    3    4    5    6    7    8    9    ...  190  191  192  193   \n",
       "0    0    1    0    1    1    1    1    1    0    1  ...    0    1    0    1  \\\n",
       "\n",
       "   194  195  196  197  198  199  \n",
       "0    0    1    0    0    1    1  \n",
       "\n",
       "[1 rows x 200 columns]"
      ]
     },
     "execution_count": 45,
     "metadata": {},
     "output_type": "execute_result"
    }
   ],
   "source": [
    "# количество хард скилов (их можно указать любое натуральное число)\n",
    "N_hard_skills = 200\n",
    "N_students = 100\n",
    "\n",
    "students_hard_skills = df_random((N_students, N_hard_skills), 0, 1)\n",
    "\n",
    "# DataFrame содержащий набор векторов характеризующий навыки всех студентов\n",
    "students_hard_skills.head(1)"
   ]
  },
  {
   "cell_type": "code",
   "execution_count": 46,
   "id": "66b946bc",
   "metadata": {},
   "outputs": [
    {
     "data": {
      "text/html": [
       "<div>\n",
       "<style scoped>\n",
       "    .dataframe tbody tr th:only-of-type {\n",
       "        vertical-align: middle;\n",
       "    }\n",
       "\n",
       "    .dataframe tbody tr th {\n",
       "        vertical-align: top;\n",
       "    }\n",
       "\n",
       "    .dataframe thead th {\n",
       "        text-align: right;\n",
       "    }\n",
       "</style>\n",
       "<table border=\"1\" class=\"dataframe\">\n",
       "  <thead>\n",
       "    <tr style=\"text-align: right;\">\n",
       "      <th></th>\n",
       "      <th>0</th>\n",
       "      <th>1</th>\n",
       "      <th>2</th>\n",
       "      <th>3</th>\n",
       "      <th>4</th>\n",
       "      <th>5</th>\n",
       "      <th>6</th>\n",
       "      <th>7</th>\n",
       "      <th>8</th>\n",
       "      <th>9</th>\n",
       "      <th>...</th>\n",
       "      <th>190</th>\n",
       "      <th>191</th>\n",
       "      <th>192</th>\n",
       "      <th>193</th>\n",
       "      <th>194</th>\n",
       "      <th>195</th>\n",
       "      <th>196</th>\n",
       "      <th>197</th>\n",
       "      <th>198</th>\n",
       "      <th>199</th>\n",
       "    </tr>\n",
       "  </thead>\n",
       "  <tbody>\n",
       "    <tr>\n",
       "      <th>0</th>\n",
       "      <td>0</td>\n",
       "      <td>0</td>\n",
       "      <td>1</td>\n",
       "      <td>1</td>\n",
       "      <td>1</td>\n",
       "      <td>1</td>\n",
       "      <td>1</td>\n",
       "      <td>1</td>\n",
       "      <td>0</td>\n",
       "      <td>0</td>\n",
       "      <td>...</td>\n",
       "      <td>1</td>\n",
       "      <td>1</td>\n",
       "      <td>0</td>\n",
       "      <td>1</td>\n",
       "      <td>1</td>\n",
       "      <td>1</td>\n",
       "      <td>1</td>\n",
       "      <td>1</td>\n",
       "      <td>1</td>\n",
       "      <td>0</td>\n",
       "    </tr>\n",
       "  </tbody>\n",
       "</table>\n",
       "<p>1 rows × 200 columns</p>\n",
       "</div>"
      ],
      "text/plain": [
       "   0    1    2    3    4    5    6    7    8    9    ...  190  191  192  193   \n",
       "0    0    0    1    1    1    1    1    1    0    0  ...    1    1    0    1  \\\n",
       "\n",
       "   194  195  196  197  198  199  \n",
       "0    1    1    1    1    1    0  \n",
       "\n",
       "[1 rows x 200 columns]"
      ]
     },
     "execution_count": 46,
     "metadata": {},
     "output_type": "execute_result"
    }
   ],
   "source": [
    "N_projects = 40\n",
    "projects_hard_skills = df_random((N_projects, N_hard_skills), 0, 1)\n",
    "\n",
    "# DataFrame содержащий набор векторов характеризующий требования всех проектов к студентам\n",
    "projects_hard_skills.head(1)"
   ]
  },
  {
   "cell_type": "code",
   "execution_count": 47,
   "id": "8316b304",
   "metadata": {},
   "outputs": [
    {
     "data": {
      "text/html": [
       "<div>\n",
       "<style scoped>\n",
       "    .dataframe tbody tr th:only-of-type {\n",
       "        vertical-align: middle;\n",
       "    }\n",
       "\n",
       "    .dataframe tbody tr th {\n",
       "        vertical-align: top;\n",
       "    }\n",
       "\n",
       "    .dataframe thead th {\n",
       "        text-align: right;\n",
       "    }\n",
       "</style>\n",
       "<table border=\"1\" class=\"dataframe\">\n",
       "  <thead>\n",
       "    <tr style=\"text-align: right;\">\n",
       "      <th></th>\n",
       "      <th>0</th>\n",
       "      <th>1</th>\n",
       "      <th>2</th>\n",
       "      <th>3</th>\n",
       "      <th>4</th>\n",
       "      <th>5</th>\n",
       "      <th>6</th>\n",
       "      <th>7</th>\n",
       "      <th>8</th>\n",
       "      <th>9</th>\n",
       "      <th>...</th>\n",
       "      <th>190</th>\n",
       "      <th>191</th>\n",
       "      <th>192</th>\n",
       "      <th>193</th>\n",
       "      <th>194</th>\n",
       "      <th>195</th>\n",
       "      <th>196</th>\n",
       "      <th>197</th>\n",
       "      <th>198</th>\n",
       "      <th>199</th>\n",
       "    </tr>\n",
       "  </thead>\n",
       "  <tbody>\n",
       "    <tr>\n",
       "      <th>0</th>\n",
       "      <td>1</td>\n",
       "      <td>1</td>\n",
       "      <td>1</td>\n",
       "      <td>1</td>\n",
       "      <td>1</td>\n",
       "      <td>1</td>\n",
       "      <td>1</td>\n",
       "      <td>0</td>\n",
       "      <td>0</td>\n",
       "      <td>1</td>\n",
       "      <td>...</td>\n",
       "      <td>0</td>\n",
       "      <td>0</td>\n",
       "      <td>0</td>\n",
       "      <td>0</td>\n",
       "      <td>0</td>\n",
       "      <td>0</td>\n",
       "      <td>0</td>\n",
       "      <td>0</td>\n",
       "      <td>0</td>\n",
       "      <td>0</td>\n",
       "    </tr>\n",
       "  </tbody>\n",
       "</table>\n",
       "<p>1 rows × 200 columns</p>\n",
       "</div>"
      ],
      "text/plain": [
       "   0    1    2    3    4    5    6    7    8    9    ...  190  191  192  193   \n",
       "0    1    1    1    1    1    1    1    0    0    1  ...    0    0    0    0  \\\n",
       "\n",
       "   194  195  196  197  198  199  \n",
       "0    0    0    0    0    0    0  \n",
       "\n",
       "[1 rows x 200 columns]"
      ]
     },
     "execution_count": 47,
     "metadata": {},
     "output_type": "execute_result"
    }
   ],
   "source": [
    "N_managers = 20\n",
    "N_manager_hard_skills = 30\n",
    "managers_require_hard_skills = df_random((N_projects, N_manager_hard_skills), 0, 1)\n",
    "df_of_zeroes = df_random((N_projects, N_hard_skills - N_manager_hard_skills), 0, 0)\n",
    "managers_require_hard_skills = pd.concat([managers_require_hard_skills, df_of_zeroes], ignore_index=True, axis=1)\n",
    "\n",
    "# DataFrame содержащий набор векторов характеризующий требования всех руководителей к студентам\n",
    "managers_require_hard_skills.head(1)"
   ]
  },
  {
   "cell_type": "code",
   "execution_count": 48,
   "id": "48ec2aea",
   "metadata": {},
   "outputs": [
    {
     "data": {
      "text/plain": [
       "{0: 0,\n",
       " 1: 1,\n",
       " 2: 2,\n",
       " 3: 3,\n",
       " 4: 4,\n",
       " 5: 5,\n",
       " 6: 6,\n",
       " 7: 7,\n",
       " 8: 8,\n",
       " 9: 9,\n",
       " 10: 10,\n",
       " 11: 11,\n",
       " 12: 12,\n",
       " 13: 13,\n",
       " 14: 14,\n",
       " 15: 15,\n",
       " 16: 16,\n",
       " 17: 17,\n",
       " 18: 18,\n",
       " 19: 19,\n",
       " 20: 0,\n",
       " 21: 1,\n",
       " 22: 2,\n",
       " 23: 3,\n",
       " 24: 4,\n",
       " 25: 5,\n",
       " 26: 6,\n",
       " 27: 7,\n",
       " 28: 8,\n",
       " 29: 9,\n",
       " 30: 10,\n",
       " 31: 11,\n",
       " 32: 12,\n",
       " 33: 13,\n",
       " 34: 14,\n",
       " 35: 15,\n",
       " 36: 16,\n",
       " 37: 17,\n",
       " 38: 18,\n",
       " 39: 19}"
      ]
     },
     "execution_count": 48,
     "metadata": {},
     "output_type": "execute_result"
    }
   ],
   "source": [
    "# словарь соответстия проекта руководителю\n",
    "project_to_manager = {}\n",
    "for i in range(N_projects):\n",
    "    project_to_manager[i] = i%N_managers\n",
    "    \n",
    "project_to_manager"
   ]
  },
  {
   "cell_type": "code",
   "execution_count": 49,
   "id": "88ef2d57",
   "metadata": {},
   "outputs": [
    {
     "data": {
      "text/html": [
       "<div>\n",
       "<style scoped>\n",
       "    .dataframe tbody tr th:only-of-type {\n",
       "        vertical-align: middle;\n",
       "    }\n",
       "\n",
       "    .dataframe tbody tr th {\n",
       "        vertical-align: top;\n",
       "    }\n",
       "\n",
       "    .dataframe thead th {\n",
       "        text-align: right;\n",
       "    }\n",
       "</style>\n",
       "<table border=\"1\" class=\"dataframe\">\n",
       "  <thead>\n",
       "    <tr style=\"text-align: right;\">\n",
       "      <th></th>\n",
       "      <th>0</th>\n",
       "      <th>1</th>\n",
       "      <th>2</th>\n",
       "      <th>3</th>\n",
       "      <th>4</th>\n",
       "      <th>5</th>\n",
       "      <th>6</th>\n",
       "      <th>7</th>\n",
       "      <th>8</th>\n",
       "      <th>9</th>\n",
       "      <th>...</th>\n",
       "      <th>190</th>\n",
       "      <th>191</th>\n",
       "      <th>192</th>\n",
       "      <th>193</th>\n",
       "      <th>194</th>\n",
       "      <th>195</th>\n",
       "      <th>196</th>\n",
       "      <th>197</th>\n",
       "      <th>198</th>\n",
       "      <th>199</th>\n",
       "    </tr>\n",
       "  </thead>\n",
       "  <tbody>\n",
       "    <tr>\n",
       "      <th>0</th>\n",
       "      <td>1</td>\n",
       "      <td>1</td>\n",
       "      <td>1</td>\n",
       "      <td>1</td>\n",
       "      <td>1</td>\n",
       "      <td>1</td>\n",
       "      <td>1</td>\n",
       "      <td>1</td>\n",
       "      <td>0</td>\n",
       "      <td>1</td>\n",
       "      <td>...</td>\n",
       "      <td>1</td>\n",
       "      <td>1</td>\n",
       "      <td>0</td>\n",
       "      <td>1</td>\n",
       "      <td>1</td>\n",
       "      <td>1</td>\n",
       "      <td>1</td>\n",
       "      <td>1</td>\n",
       "      <td>1</td>\n",
       "      <td>0</td>\n",
       "    </tr>\n",
       "  </tbody>\n",
       "</table>\n",
       "<p>1 rows × 200 columns</p>\n",
       "</div>"
      ],
      "text/plain": [
       "   0    1    2    3    4    5    6    7    8    9    ...  190  191  192  193   \n",
       "0    1    1    1    1    1    1    1    1    0    1  ...    1    1    0    1  \\\n",
       "\n",
       "   194  195  196  197  198  199  \n",
       "0    1    1    1    1    1    0  \n",
       "\n",
       "[1 rows x 200 columns]"
      ]
     },
     "execution_count": 49,
     "metadata": {},
     "output_type": "execute_result"
    }
   ],
   "source": [
    "# не использую в итоге\n",
    "# функция находит необходимые навыки путём взятия поэлементного логического или\n",
    "def get_require_hard_skills(projects_hard_skills, managers_require_hard_skills, project_to_manager):\n",
    "    all_require_hard_skills = pd.DataFrame()\n",
    "    for i in range(N_projects):\n",
    "        # необходимые навыки для одного проекта\n",
    "        require_hard_skills = pd.DataFrame(np.logical_or(projects_hard_skills.iloc[i], managers_require_hard_skills.iloc[project_to_manager[i]]), dtype=int).T\n",
    "        # добавление в необходимые навыки необходимых навыков для одного проекта\n",
    "        all_require_hard_skills = pd.concat([all_require_hard_skills, require_hard_skills], ignore_index=True)\n",
    "        \n",
    "    return all_require_hard_skills\n",
    "        \n",
    "require_hard_skills = get_require_hard_skills(projects_hard_skills, managers_require_hard_skills, project_to_manager)\n",
    "# DataFrame с векторами характеризующими итоговые требования проекта к студентам \n",
    "require_hard_skills.head(1)"
   ]
  },
  {
   "cell_type": "code",
   "execution_count": 50,
   "id": "c6110020",
   "metadata": {},
   "outputs": [
    {
     "data": {
      "text/plain": [
       "array([[[-1,  1, -1, ..., -1,  1,  0],\n",
       "        [-1,  1,  0, ...,  0,  1,  0],\n",
       "        [-1,  1,  0, ..., -1,  0,  1],\n",
       "        ...,\n",
       "        [-1,  1,  0, ...,  0,  0,  0],\n",
       "        [ 0,  0, -1, ..., -1,  0,  1],\n",
       "        [-1,  0, -1, ...,  0,  1,  1]],\n",
       "\n",
       "       [[-1,  1,  1, ..., -1, -1,  0],\n",
       "        [-1,  1,  0, ...,  0, -1,  0],\n",
       "        [-1,  1,  0, ..., -1,  0, -1],\n",
       "        ...,\n",
       "        [-1,  1,  0, ...,  0,  0,  0],\n",
       "        [ 0,  0,  1, ..., -1,  0, -1],\n",
       "        [-1,  0,  1, ...,  0, -1, -1]],\n",
       "\n",
       "       [[-1,  1,  1, ..., -1,  1,  0],\n",
       "        [-1,  1,  0, ...,  0,  1,  0],\n",
       "        [-1,  1,  0, ..., -1,  0,  1],\n",
       "        ...,\n",
       "        [-1,  1,  0, ...,  0,  0,  0],\n",
       "        [ 0,  0,  1, ..., -1,  0,  1],\n",
       "        [-1,  0,  1, ...,  0,  1,  1]],\n",
       "\n",
       "       ...,\n",
       "\n",
       "       [[ 1, -1,  1, ..., -1, -1,  0],\n",
       "        [ 1, -1,  0, ...,  0, -1,  0],\n",
       "        [ 1, -1,  0, ..., -1,  0,  1],\n",
       "        ...,\n",
       "        [ 1, -1,  0, ...,  0,  0,  0],\n",
       "        [ 0,  0,  1, ..., -1,  0,  1],\n",
       "        [ 1,  0,  1, ...,  0, -1,  1]],\n",
       "\n",
       "       [[-1,  1,  1, ...,  1, -1,  0],\n",
       "        [-1,  1,  0, ...,  0, -1,  0],\n",
       "        [-1,  1,  0, ...,  1,  0, -1],\n",
       "        ...,\n",
       "        [-1,  1,  0, ...,  0,  0,  0],\n",
       "        [ 0,  0,  1, ...,  1,  0, -1],\n",
       "        [-1,  0,  1, ...,  0, -1, -1]],\n",
       "\n",
       "       [[ 1,  1,  1, ..., -1,  1,  0],\n",
       "        [ 1,  1,  0, ...,  0,  1,  0],\n",
       "        [ 1,  1,  0, ..., -1,  0, -1],\n",
       "        ...,\n",
       "        [ 1,  1,  0, ...,  0,  0,  0],\n",
       "        [ 0,  0,  1, ..., -1,  0, -1],\n",
       "        [ 1,  0,  1, ...,  0,  1, -1]]])"
      ]
     },
     "execution_count": 50,
     "metadata": {},
     "output_type": "execute_result"
    }
   ],
   "source": [
    "# функция которая расчитывает соответствие навыков студентов к требуемым навыкам\n",
    "# Если студент обладает навыком    (1) и он требуется для проекта    (1), то ставим  1\n",
    "# Если студент не обладает навыком (0) и он требуется для проекта    (1), то ставим -1\n",
    "# Если студент не обладает навыком (0) и он не требуется для проекта (0), то ставим  0\n",
    "# Если студент обладает навыком    (1) и он не требуется для проекта (0), то ставим  0\n",
    "def match_f(require, present):\n",
    "    if      require == 0 and present == 0:\n",
    "        return 0\n",
    "    elif require == 1 and present == 1:\n",
    "        return 1\n",
    "    elif require == 1 and present == 0:\n",
    "        return -1\n",
    "    else:\n",
    "        return 0\n",
    "\n",
    "# не использую\n",
    "# функция возвращает соответсиве студентов проектам поэлементно применяя функцию match_f\n",
    "def get_match_students_to_projects(require_hard_skills, students_hard_skills):\n",
    "    match_students_to_projects = np.zeros(shape=(len(students_hard_skills), len(require_hard_skills), N_hard_skills), dtype=int)\n",
    "    for i in range(N_students):\n",
    "        match_student_to_projects = np.zeros(shape=(len(require_hard_skills), N_hard_skills), dtype=int)\n",
    "        for j in range(N_projects):\n",
    "            match_student_to_project = [match_f(require_hard_skills[k][j], students_hard_skills[k][i]) for k in range(N_hard_skills)]\n",
    "            match_student_to_projects[j] = np.array(match_student_to_project)\n",
    "        match_students_to_projects[i] = np.array(match_student_to_projects)\n",
    "        \n",
    "    return match_students_to_projects\n",
    "        \n",
    "match_students_to_projects = get_match_students_to_projects(require_hard_skills, students_hard_skills)\n",
    "match_students_to_projects"
   ]
  },
  {
   "cell_type": "code",
   "execution_count": 51,
   "id": "b239363d",
   "metadata": {},
   "outputs": [
    {
     "data": {
      "text/plain": [
       "(40, 200)"
      ]
     },
     "execution_count": 51,
     "metadata": {},
     "output_type": "execute_result"
    }
   ],
   "source": [
    "match_students_to_projects[0].shape"
   ]
  },
  {
   "cell_type": "code",
   "execution_count": 52,
   "id": "5fe38235",
   "metadata": {},
   "outputs": [
    {
     "data": {
      "text/plain": [
       "array([1., 1., 1., 1., 1.])"
      ]
     },
     "execution_count": 52,
     "metadata": {},
     "output_type": "execute_result"
    }
   ],
   "source": [
    "coefficients_of_significance_of_hard_skills = np.ones(N_hard_skills)\n",
    "# вектор коэффициентов значимости хард скилов\n",
    "# на данной стадии все они являются единицами\n",
    "# иными словами мы считаем на данной стадии что все они вносят одинаковый вклад\n",
    "coefficients_of_significance_of_hard_skills[0:5]"
   ]
  },
  {
   "cell_type": "code",
   "execution_count": 53,
   "id": "abc2b002",
   "metadata": {},
   "outputs": [
    {
     "data": {
      "text/plain": [
       "array([-1.,  1., -1.,  1.,  1.,  1.,  1.,  1.,  0.,  1.])"
      ]
     },
     "execution_count": 53,
     "metadata": {},
     "output_type": "execute_result"
    }
   ],
   "source": [
    "match_students_to_projects_scaled = match_students_to_projects*coefficients_of_significance_of_hard_skills\n",
    "# скалированный вектор соответствия навыков студента №1 требуемым навыкам для проекта №1\n",
    "match_students_to_projects_scaled[0][0][0:10]"
   ]
  },
  {
   "cell_type": "code",
   "execution_count": 54,
   "id": "e12b4676",
   "metadata": {},
   "outputs": [
    {
     "data": {
      "text/plain": [
       "7.2"
      ]
     },
     "execution_count": 54,
     "metadata": {},
     "output_type": "execute_result"
    }
   ],
   "source": [
    "# коэффициент значимости оценки проекта студентом\n",
    "q_1 = 20\n",
    "# коэффициент значимости соответстия навыков студента требуемым навыкам для проекта\n",
    "q_2 = 80\n",
    "# q_1 и q_2 были взяты по принцпу Парето\n",
    "match_student_project_scaled = match_students_to_projects_scaled[0][0]\n",
    "grade_of_optimality_of_a_project_for_a_student = q_1*0.5 + q_2*match_student_project_scaled.sum()/coefficients_of_significance_of_hard_skills.sum()\n",
    "# оценка соответсия студента №1 для проекта №1 по шкале от -100 до 100\n",
    "grade_of_optimality_of_a_project_for_a_student"
   ]
  },
  {
   "cell_type": "code",
   "execution_count": 55,
   "id": "655b5e00",
   "metadata": {},
   "outputs": [
    {
     "data": {
      "text/plain": [
       "7.2"
      ]
     },
     "execution_count": 55,
     "metadata": {},
     "output_type": "execute_result"
    }
   ],
   "source": [
    "# находит оценку как скалярное произведение вектора коэффициентов на вектор соответсвия плюс оценка студента\n",
    "# взятые с соответствующими коэффициентами\n",
    "def get_grade_of_optimality_of_a_project_for_a_student(coefficients_of_significance_of_each_grade,\n",
    "                                                       student_grade_for_project,\n",
    "                                                       coefficients_of_significance_of_hard_skills,\n",
    "                                                       student_hard_skills,\n",
    "                                                       project_hard_skills,\n",
    "                                                       manager_require_hard_skills):\n",
    "    require_hard_skills = np.logical_or(project_hard_skills, manager_require_hard_skills)\n",
    "\n",
    "    match_student_project = [match_f(require_hard_skills[i], student_hard_skills[i]) for i in range(N_hard_skills)]\n",
    "    match_student_project = np.array(match_student_project)\n",
    "    \n",
    "    match_student_project_scaled = match_student_project*coefficients_of_significance_of_hard_skills\n",
    "    \n",
    "    grade_of_optimality_of_a_project_for_a_student = coefficients_of_significance_of_each_grade[0]*student_grade_for_project +coefficients_of_significance_of_each_grade[1]*match_student_project_scaled.sum()/coefficients_of_significance_of_hard_skills.sum()\n",
    "    return grade_of_optimality_of_a_project_for_a_student\n",
    "\n",
    "get_grade_of_optimality_of_a_project_for_a_student([q_1, q_2],\n",
    "                                                   0.5,\n",
    "                                                   coefficients_of_significance_of_hard_skills,\n",
    "                                                   students_hard_skills.iloc[0],\n",
    "                                                   projects_hard_skills.iloc[0],\n",
    "                                                   managers_require_hard_skills.iloc[0])"
   ]
  },
  {
   "cell_type": "code",
   "execution_count": 56,
   "id": "389e8fa0",
   "metadata": {},
   "outputs": [
    {
     "data": {
      "text/plain": [
       "(40, 200)"
      ]
     },
     "execution_count": 56,
     "metadata": {},
     "output_type": "execute_result"
    }
   ],
   "source": [
    "managers_require_hard_skills.shape"
   ]
  },
  {
   "cell_type": "code",
   "execution_count": 57,
   "id": "4b11e69c",
   "metadata": {},
   "outputs": [
    {
     "data": {
      "text/plain": [
       "19"
      ]
     },
     "execution_count": 57,
     "metadata": {},
     "output_type": "execute_result"
    }
   ],
   "source": [
    "project_to_manager[39]"
   ]
  },
  {
   "cell_type": "code",
   "execution_count": 58,
   "id": "6dd3605a",
   "metadata": {},
   "outputs": [
    {
     "data": {
      "text/plain": [
       "(100, 40)"
      ]
     },
     "execution_count": 58,
     "metadata": {},
     "output_type": "execute_result"
    }
   ],
   "source": [
    "grades_of_optimality_of_students_for_projects = np.zeros(shape=(N_students, N_projects))\n",
    "for i in range(N_students):\n",
    "    for j in range(N_projects):\n",
    "        grades_of_optimality_of_students_for_projects[i][j] = get_grade_of_optimality_of_a_project_for_a_student([q_1, q_2],\n",
    "                                                               0.5,\n",
    "                                                               coefficients_of_significance_of_hard_skills,\n",
    "                                                               students_hard_skills.iloc[i],\n",
    "                                                               projects_hard_skills.iloc[j],\n",
    "                                                               managers_require_hard_skills.iloc[project_to_manager[j]])\n",
    "\n",
    "grades_of_optimality_of_students_for_projects.shape"
   ]
  },
  {
   "cell_type": "code",
   "execution_count": 59,
   "id": "8aca588b",
   "metadata": {},
   "outputs": [
    {
     "data": {
      "text/plain": [
       "(100, 40)"
      ]
     },
     "execution_count": 59,
     "metadata": {},
     "output_type": "execute_result"
    }
   ],
   "source": [
    "grades_of_optimality_of_students_for_projects.shape"
   ]
  },
  {
   "cell_type": "code",
   "execution_count": 60,
   "id": "dac4bd77",
   "metadata": {},
   "outputs": [
    {
     "data": {
      "text/plain": [
       "array([[-0.2467514 , -0.45706433, -0.26530347, ...,  0.51639267,\n",
       "        -0.71831414, -0.7264832 ],\n",
       "       [ 0.58328902,  0.67762006, -0.95276898, ..., -0.22728034,\n",
       "        -0.02269039,  0.84966524],\n",
       "       [ 0.95868649, -0.26895802, -0.89282209, ...,  0.90629297,\n",
       "         0.11451597,  0.64978672],\n",
       "       ...,\n",
       "       [-0.8211425 , -0.83206291, -0.44403751, ...,  0.80395433,\n",
       "        -0.64599084,  0.38900999],\n",
       "       [ 0.55524513,  0.77648049, -0.38329348, ..., -0.20282417,\n",
       "        -0.66766826,  0.10508735],\n",
       "       [-0.10079565,  0.1507934 , -0.4424831 , ...,  0.42733178,\n",
       "         0.40824096,  0.92510475]])"
      ]
     },
     "execution_count": 60,
     "metadata": {},
     "output_type": "execute_result"
    }
   ],
   "source": [
    "np.random.rand(N_students, N_projects)*2-1"
   ]
  },
  {
   "cell_type": "code",
   "execution_count": 61,
   "id": "16367c23",
   "metadata": {},
   "outputs": [
    {
     "data": {
      "text/plain": [
       "array([[ 10.20368223,   0.14728243,   9.48615199, ..., -18.2853332 ,\n",
       "         -7.65819171,   5.35351356],\n",
       "       [  0.51155714,  16.15681112,  13.77696063, ...,   8.7718452 ,\n",
       "         12.32391974,  11.65035448],\n",
       "       [  8.63279119,   5.6498434 ,   6.53432534, ...,   3.72733675,\n",
       "         22.19811626,  -6.91466832],\n",
       "       ...,\n",
       "       [-15.18495409,   5.92815299,  -1.09358829, ..., -19.95627254,\n",
       "          2.94425821,  -3.39027778],\n",
       "       [ 21.24411145,  19.16655622,  -2.44843737, ...,  -0.46172308,\n",
       "         -1.38289554,   1.97439658],\n",
       "       [ -2.27263555,  -9.80405047,  -1.43671139, ...,  -3.06277367,\n",
       "         -1.13025617,  -7.30256914]])"
      ]
     },
     "execution_count": 61,
     "metadata": {},
     "output_type": "execute_result"
    }
   ],
   "source": [
    "# аналогично get_grade_of_optimality_of_a_project_for_a_student,\n",
    "# но возвращается уже матрица содержащая оценки для всех студентов и проектов\n",
    "def get_grades_of_optimality_of_a_projects_for_a_students(coefficients_of_significance_of_each_grade,\n",
    "                                                          student_grades_for_projects,\n",
    "                                                          coefficients_of_significance_of_hard_skills,\n",
    "                                                          students_hard_skills,\n",
    "                                                          projects_hard_skills,\n",
    "                                                          project_to_manager):\n",
    "    # инициализируем матрицу, которую будем заполнять\n",
    "    grades_of_optimality_of_students_for_projects = np.zeros(shape=(N_students, N_projects))\n",
    "    for i in range(len(students_hard_skills)):\n",
    "        for j in range(len(projects_hard_skills)):\n",
    "            # используем функцию get_grade_of_optimality_of_a_project_for_a_student для заполнения матрицы\n",
    "            grades_of_optimality_of_students_for_projects[i][j] = \\\n",
    "                get_grade_of_optimality_of_a_project_for_a_student(coefficients_of_significance_of_each_grade,\n",
    "                                                   student_grades_for_projects[i][j],\n",
    "                                                   coefficients_of_significance_of_hard_skills,\n",
    "                                                   students_hard_skills.iloc[i],\n",
    "                                                   projects_hard_skills.iloc[j],\n",
    "                                                   managers_require_hard_skills.iloc[j])\n",
    "            \n",
    "    return grades_of_optimality_of_students_for_projects\n",
    "\n",
    "student_grades_for_projects = np.random.rand(N_students, N_projects)*2-1\n",
    "\n",
    "grades_of_optimality_of_students_for_projects = get_grades_of_optimality_of_a_projects_for_a_students([q_1, q_2],\n",
    "                                                      student_grades_for_projects,\n",
    "                                                      coefficients_of_significance_of_hard_skills,\n",
    "                                                      students_hard_skills,\n",
    "                                                      projects_hard_skills,\n",
    "                                                      project_to_manager)\n",
    "grades_of_optimality_of_students_for_projects"
   ]
  },
  {
   "cell_type": "code",
   "execution_count": 62,
   "id": "6c4067ce",
   "metadata": {},
   "outputs": [
    {
     "data": {
      "text/plain": [
       "array([ 10.20368223,   0.14728243,   9.48615199,   1.02145159,\n",
       "       -14.59065558,  -6.82804609, -13.00442521,   4.30628067,\n",
       "       -16.69253066, -18.35794217, -14.28230738,   7.53458667,\n",
       "       -21.03583691,   9.42710703,  22.88396404,  -8.93788338,\n",
       "         3.99452782,  -6.62824689,  14.01829716, -11.04470642,\n",
       "        -7.14349743,  -2.49611947, -13.10884536,  24.56427022,\n",
       "        -4.28530466, -14.95352101,   0.84182974,  -3.23493438,\n",
       "        12.14205171, -13.31844086,   5.57131836,  -4.30164409,\n",
       "        -6.01201089,  -4.85498471,  -4.6285803 ,   5.39863067,\n",
       "         2.12304539, -18.2853332 ,  -7.65819171,   5.35351356])"
      ]
     },
     "execution_count": 62,
     "metadata": {},
     "output_type": "execute_result"
    }
   ],
   "source": [
    "grades_of_optimality_of_students_for_projects[0]"
   ]
  },
  {
   "cell_type": "code",
   "execution_count": 63,
   "id": "a55668c7",
   "metadata": {},
   "outputs": [
    {
     "data": {
      "text/plain": [
       "[[0, 1, 2],\n",
       " [3, 4, 5],\n",
       " [6, 7, 8],\n",
       " [9, 10, 11],\n",
       " [12, 13, 14],\n",
       " [15, 16, 17],\n",
       " [18, 19, 20],\n",
       " [21, 22, 23],\n",
       " [24, 25, 26],\n",
       " [27, 28, 29],\n",
       " [30, 31, 32],\n",
       " [33, 34, 35],\n",
       " [36, 37, 38],\n",
       " [39, 40, 41],\n",
       " [42, 43, 44],\n",
       " [45, 46, 47],\n",
       " [48, 49, 50],\n",
       " [51, 52, 53],\n",
       " [54, 55, 56],\n",
       " [57, 58, 59],\n",
       " [60, 61, 62],\n",
       " [63, 64, 65],\n",
       " [66, 67, 68],\n",
       " [69, 70, 71],\n",
       " [72, 73, 74],\n",
       " [75, 76, 77],\n",
       " [78, 79, 80],\n",
       " [81, 82, 83],\n",
       " [84, 85, 86],\n",
       " [87, 88, 89],\n",
       " [90, 91, 92],\n",
       " [93, 94, 95],\n",
       " [96, 97, 98],\n",
       " [99]]"
      ]
     },
     "execution_count": 63,
     "metadata": {},
     "output_type": "execute_result"
    }
   ],
   "source": [
    "N_teams = N_students//3 + 1\n",
    "teams = []\n",
    "for i in range(0, N_students - 1, 3):\n",
    "   teams.append([i, i + 1, i + 2]) \n",
    "\n",
    "teams.append([99])\n",
    "teams"
   ]
  },
  {
   "cell_type": "code",
   "execution_count": 64,
   "id": "952fe5dc",
   "metadata": {},
   "outputs": [
    {
     "data": {
      "text/plain": [
       "array([[  6.44934352,   6.94796789,   6.16082323, ...,   2.370304  ,\n",
       "          7.41314362,  -2.27263555],\n",
       "       [  7.31797898,  -6.82927422,  -2.10894142, ...,  -5.03388732,\n",
       "         11.66963121,  -9.80405047],\n",
       "       [  9.93247932,   1.31686808, -13.31372951, ...,   6.96926597,\n",
       "          1.0385646 ,  -1.43671139],\n",
       "       ...,\n",
       "       [ -1.92871709,  -5.25297331,  -6.41475352, ...,  -2.73652037,\n",
       "        -10.70050657,  -3.06277367],\n",
       "       [  8.95461476,  -3.09175431,   8.95443049, ...,  -6.45484468,\n",
       "          3.24792373,  -1.13025617],\n",
       "       [  3.36306658,  -0.60429398,  -2.53932806, ...,  -7.78783151,\n",
       "          5.48363119,  -7.30256914]])"
      ]
     },
     "execution_count": 64,
     "metadata": {},
     "output_type": "execute_result"
    }
   ],
   "source": [
    "# находит среднее арифметическое между соответствием студентов команды к проекту \n",
    "# и запполняет этими занчениями таблицу соответствия команд проектам\n",
    "def get_grade_of_optimality_of_a_projects_for_a_teams(teams, grades_of_optimality_of_students_for_projects):\n",
    "    shape_of_grades = grades_of_optimality_of_students_for_projects.shape\n",
    "    grade_of_optimality_of_a_projects_for_a_teams = np.zeros(shape=(shape_of_grades[1], len(teams)))\n",
    "    for project in range(shape_of_grades[1]):\n",
    "        for team_index in range(len(teams)):\n",
    "            sum_grade = 0.0\n",
    "            # находим суммарное соответствие\n",
    "            for student in teams[team_index]:\n",
    "                sum_grade += grades_of_optimality_of_students_for_projects[student][project]\n",
    "            \n",
    "            # добавляем в таблицу среднее арифметическое соответствие каждого из членов команды\n",
    "            grade_of_optimality_of_a_projects_for_a_teams[project][team_index] = sum_grade/len(teams[team_index])\n",
    "        \n",
    "    return grade_of_optimality_of_a_projects_for_a_teams\n",
    "\n",
    "grade_of_optimality_of_a_projects_for_a_teams = get_grade_of_optimality_of_a_projects_for_a_teams(teams, grades_of_optimality_of_students_for_projects)\n",
    "grade_of_optimality_of_a_projects_for_a_teams"
   ]
  },
  {
   "cell_type": "code",
   "execution_count": 65,
   "id": "d740c30d",
   "metadata": {},
   "outputs": [
    {
     "data": {
      "text/plain": [
       "(40, 34)"
      ]
     },
     "execution_count": 65,
     "metadata": {},
     "output_type": "execute_result"
    }
   ],
   "source": [
    "grade_of_optimality_of_a_projects_for_a_teams.shape"
   ]
  },
  {
   "cell_type": "code",
   "execution_count": 66,
   "id": "2e9d64ed",
   "metadata": {},
   "outputs": [
    {
     "name": "stdout",
     "output_type": "stream",
     "text": [
      "Requirement already satisfied: scipy in c:\\users\\artiom\\appdata\\local\\programs\\python\\python311\\lib\\site-packages (1.10.1)\n",
      "Requirement already satisfied: numpy<1.27.0,>=1.19.5 in c:\\users\\artiom\\appdata\\local\\programs\\python\\python311\\lib\\site-packages (from scipy) (1.23.5)\n"
     ]
    }
   ],
   "source": [
    "!pip install scipy"
   ]
  },
  {
   "cell_type": "code",
   "execution_count": 109,
   "id": "89bf98a8",
   "metadata": {},
   "outputs": [
    {
     "name": "stdout",
     "output_type": "stream",
     "text": [
      "{21: 0, 7: 1, 27: 2, 12: 4, 18: 5, 29: 6, 28: 7, 11: 8, 26: 9, 5: 10, 0: 11, 30: 12, 8: 13, 15: 14, 4: 15, 16: 16, 31: 17, 6: 18, 1: 19, 3: 20, 32: 21, 2: 22, 20: 23, 9: 24, 13: 25, 25: 29, 10: 30, 33: 32, 23: 33, 14: 34, 24: 35, 19: 36, 22: 37, 17: 39}\n"
     ]
    }
   ],
   "source": [
    "#1\n",
    "import numpy as np\n",
    "from scipy.optimize import linear_sum_assignment\n",
    "\n",
    "def optimize_team_project_distribution(grade_matrix):\n",
    "    # Конвертируем матрицу оценок в матрицу стоимостей (для минимизации)\n",
    "    cost_matrix = -np.array(grade_matrix)\n",
    "\n",
    "    # Используем метод оптимизации для решения задачи о назначениях\n",
    "    row_indices, col_indices = linear_sum_assignment(cost_matrix)\n",
    "    # print(row_indices)\n",
    "\n",
    "    # Создаем словарь с результатами распределения\n",
    "    team_project_mapping = {team_id: project_id for project_id, team_id in zip(row_indices, col_indices)}\n",
    "\n",
    "    return team_project_mapping\n",
    "\n",
    "result_om = optimize_team_project_distribution(grade_of_optimality_of_a_projects_for_a_teams)\n",
    "print(result_om)"
   ]
  },
  {
   "cell_type": "code",
   "execution_count": 68,
   "id": "34a1eb7e",
   "metadata": {},
   "outputs": [
    {
     "data": {
      "text/plain": [
       "468.1489035502311"
      ]
     },
     "execution_count": 68,
     "metadata": {},
     "output_type": "execute_result"
    }
   ],
   "source": [
    "def get_score_of_distribution(grade_of_optimality_of_a_projects_for_a_teams, distribution_of_teams_across_projects):\n",
    "    score = 0\n",
    "    for i in range(len(distribution_of_teams_across_projects)):\n",
    "        score += grade_of_optimality_of_a_projects_for_a_teams[distribution_of_teams_across_projects[i]][i]\n",
    "\n",
    "    return score\n",
    "\n",
    "get_score_of_distribution(grade_of_optimality_of_a_projects_for_a_teams, result_om)"
   ]
  },
  {
   "cell_type": "code",
   "execution_count": 69,
   "id": "9cbd4c73",
   "metadata": {},
   "outputs": [
    {
     "data": {
      "text/plain": [
       "-13.332317374597686"
      ]
     },
     "execution_count": 69,
     "metadata": {},
     "output_type": "execute_result"
    }
   ],
   "source": [
    "sum_grade = 0\n",
    "for i in range(len(result_om)):\n",
    "    sum_grade += grade_of_optimality_of_a_projects_for_a_teams[i+5][i]\n",
    "    \n",
    "sum_grade"
   ]
  },
  {
   "cell_type": "code",
   "execution_count": 70,
   "id": "46125341",
   "metadata": {},
   "outputs": [
    {
     "name": "stdout",
     "output_type": "stream",
     "text": [
      "{0: 3, 1: 32, 2: 26, 3: 15, 4: 1, 5: 37, 6: 4, 7: 10, 8: 21, 9: 39, 10: 34, 11: 8, 12: 33, 13: 11, 14: 16, 15: 38, 16: 13, 17: 18, 18: 12, 19: 35, 20: 31, 21: 36, 22: 17, 23: 5, 24: 22, 25: 27, 26: 14, 27: 2, 28: 0, 29: 6, 30: 24, 31: 25, 32: 7, 33: 29}\n"
     ]
    }
   ],
   "source": [
    "#2\n",
    "import random\n",
    "\n",
    "def random_team_project_distribution(grade_matrix):\n",
    "    num_teams = len(grade_matrix)\n",
    "    num_projects = len(grade_matrix[0])\n",
    "\n",
    "    # Создаем список идентификаторов команд и проектов\n",
    "    team_ids = list(range(num_teams))\n",
    "    project_ids = list(range(num_projects))\n",
    "\n",
    "    # Случайно перемешиваем идентификаторы проектов\n",
    "    random.shuffle(project_ids)\n",
    "\n",
    "    # Создаем словарь с результатами распределения\n",
    "    team_project_mapping = {team_id: project_ids[team_id] for team_id in team_ids}\n",
    "\n",
    "    return team_project_mapping\n",
    "\n",
    "result_random = random_team_project_distribution(grade_of_optimality_of_a_projects_for_a_teams.T)\n",
    "print(result_random)\n"
   ]
  },
  {
   "cell_type": "code",
   "execution_count": 71,
   "id": "de896b12",
   "metadata": {},
   "outputs": [
    {
     "data": {
      "text/plain": [
       "69.53861458089689"
      ]
     },
     "execution_count": 71,
     "metadata": {},
     "output_type": "execute_result"
    }
   ],
   "source": [
    "get_score_of_distribution(grade_of_optimality_of_a_projects_for_a_teams, result_random)"
   ]
  },
  {
   "cell_type": "code",
   "execution_count": 130,
   "id": "cc9ebdf7",
   "metadata": {},
   "outputs": [
    {
     "name": "stdout",
     "output_type": "stream",
     "text": [
      "{0: 14, 1: 4, 2: 13, 3: 1, 4: 31, 5: 17, 6: 3, 7: 29, 8: 33, 9: 27, 10: 2, 11: 2, 12: 10, 13: 28, 14: 5, 15: 32, 16: 29, 17: 11, 18: 13, 19: 29, 20: 11, 21: 26, 22: 15, 23: 28, 24: 19, 25: 25, 26: 30, 27: 4, 28: 22, 29: 13, 30: 8, 31: 19, 32: 9, 33: 3}\n"
     ]
    }
   ],
   "source": [
    "#3\n",
    "import random\n",
    "import numpy as np\n",
    "\n",
    "class GeneticAlgorithm:\n",
    "    def __init__(self, grade_matrix, population_size=20, num_generations=2000, mutation_rate=0.01):\n",
    "        self.grade_matrix = np.array(grade_matrix)\n",
    "        self.population_size = population_size\n",
    "        self.num_generations = num_generations\n",
    "        self.mutation_rate = mutation_rate\n",
    "\n",
    "    def initialize_population(self):\n",
    "        num_teams, num_projects = self.grade_matrix.shape\n",
    "        population = []\n",
    "\n",
    "        for _ in range(self.population_size):\n",
    "            chromosome = random.sample(range(num_projects), num_teams)\n",
    "            population.append(chromosome)\n",
    "\n",
    "        return population\n",
    "\n",
    "    def evaluate_fitness(self, chromosome):\n",
    "        fitness = 0\n",
    "\n",
    "        for team_id, project_id in enumerate(chromosome):\n",
    "            fitness += self.grade_matrix[team_id, project_id]\n",
    "\n",
    "        return fitness\n",
    "\n",
    "    def crossover(self, parent1, parent2):\n",
    "        num_teams = len(parent1)\n",
    "        crossover_point = random.randint(1, num_teams - 1)\n",
    "        child1 = parent1[:crossover_point] + parent2[crossover_point:]\n",
    "        child2 = parent2[:crossover_point] + parent1[crossover_point:]\n",
    "        return child1, child2\n",
    "\n",
    "    def mutate(self, chromosome):\n",
    "        num_teams = len(chromosome)\n",
    "\n",
    "        for i in range(num_teams):\n",
    "            if random.random() < self.mutation_rate:\n",
    "                chromosome[i] = random.randint(0, num_teams - 1)\n",
    "\n",
    "        return chromosome\n",
    "\n",
    "    def select_parents(self, population):\n",
    "        parents = random.choices(population, k=2)\n",
    "        return parents[0], parents[1]\n",
    "\n",
    "    def evolve(self):\n",
    "        population = self.initialize_population()\n",
    "\n",
    "        for _ in range(self.num_generations):\n",
    "            new_population = []\n",
    "\n",
    "            for _ in range(self.population_size // 2):\n",
    "                parent1, parent2 = self.select_parents(population)\n",
    "                child1, child2 = self.crossover(parent1, parent2)\n",
    "                child1 = self.mutate(child1)\n",
    "                child2 = self.mutate(child2)\n",
    "                new_population.append(child1)\n",
    "                new_population.append(child2)\n",
    "\n",
    "            population = new_population\n",
    "\n",
    "        best_chromosome = max(population, key=self.evaluate_fitness)\n",
    "        team_project_mapping = {team_id: project_id for team_id, project_id in enumerate(best_chromosome)}\n",
    "\n",
    "        return team_project_mapping\n",
    "\n",
    "genetic_algorithm = GeneticAlgorithm(grade_of_optimality_of_a_projects_for_a_teams.T)\n",
    "result_ga = genetic_algorithm.evolve()\n",
    "\n",
    "def GA(df):\n",
    "    genetic_algorithm = GeneticAlgorithm(df)\n",
    "    result_ga = genetic_algorithm.evolve()\n",
    "    return result_ga\n",
    "\n",
    "print(result_ga)"
   ]
  },
  {
   "cell_type": "code",
   "execution_count": 114,
   "id": "2dfbc1be",
   "metadata": {},
   "outputs": [
    {
     "data": {
      "text/plain": [
       "56.74300436710376"
      ]
     },
     "execution_count": 114,
     "metadata": {},
     "output_type": "execute_result"
    }
   ],
   "source": [
    "get_score_of_distribution(grade_of_optimality_of_a_projects_for_a_teams, result_ga)"
   ]
  },
  {
   "cell_type": "code",
   "execution_count": 74,
   "id": "ca0f8154",
   "metadata": {},
   "outputs": [],
   "source": [
    "#4\n",
    "from sklearn.cluster import KMeans\n",
    "import numpy as np\n",
    "kmeans = \\\n",
    "    KMeans(n_clusters=grade_of_optimality_of_a_projects_for_a_teams.T.shape[0]//2, random_state=0, n_init=\"auto\")\\\n",
    "    .fit(grade_of_optimality_of_a_projects_for_a_teams.T)\n",
    "result_kmeans = kmeans.predict(grade_of_optimality_of_a_projects_for_a_teams.T)"
   ]
  },
  {
   "cell_type": "code",
   "execution_count": 75,
   "id": "e0b3da69",
   "metadata": {},
   "outputs": [
    {
     "data": {
      "text/plain": [
       "array([ 0, 14, 11,  4,  8, 12, 14, 14,  8, 15,  3,  1, 13,  7,  1,  4,  4,\n",
       "       14,  2,  3,  8,  1,  9, 10, 16,  6,  4,  2,  2, 14,  2,  4, 13,  5])"
      ]
     },
     "execution_count": 75,
     "metadata": {},
     "output_type": "execute_result"
    }
   ],
   "source": [
    "result_kmeans"
   ]
  },
  {
   "cell_type": "code",
   "execution_count": 76,
   "id": "13b2a0fc",
   "metadata": {},
   "outputs": [
    {
     "data": {
      "text/plain": [
       "17"
      ]
     },
     "execution_count": 76,
     "metadata": {},
     "output_type": "execute_result"
    }
   ],
   "source": [
    "list_of_first_part_indexes = []\n",
    "for i in np.unique(result_kmeans):\n",
    "   list_of_first_part_indexes.append(np.where(result_kmeans == i)[0][0])\n",
    "len(list_of_first_part_indexes)"
   ]
  },
  {
   "cell_type": "code",
   "execution_count": 77,
   "id": "1c9c8f93",
   "metadata": {},
   "outputs": [
    {
     "data": {
      "text/plain": [
       "(40, 34)"
      ]
     },
     "execution_count": 77,
     "metadata": {},
     "output_type": "execute_result"
    }
   ],
   "source": [
    "grade_of_optimality_of_a_projects_for_a_teams.shape"
   ]
  },
  {
   "cell_type": "code",
   "execution_count": 78,
   "id": "f7eba308",
   "metadata": {},
   "outputs": [
    {
     "data": {
      "text/plain": [
       "(17, 40)"
      ]
     },
     "execution_count": 78,
     "metadata": {},
     "output_type": "execute_result"
    }
   ],
   "source": [
    "first_part = grade_of_optimality_of_a_projects_for_a_teams.T[list_of_first_part_indexes]\n",
    "first_part.shape"
   ]
  },
  {
   "cell_type": "code",
   "execution_count": 79,
   "id": "fa55663d",
   "metadata": {},
   "outputs": [
    {
     "name": "stdout",
     "output_type": "stream",
     "text": [
      "[ 5  8  9 10 14 15 17 19 20 22 23 24 25 29 30 32 39]\n"
     ]
    },
    {
     "data": {
      "text/plain": [
       "{16: 5,\n",
       " 1: 8,\n",
       " 9: 9,\n",
       " 12: 10,\n",
       " 10: 14,\n",
       " 8: 15,\n",
       " 13: 17,\n",
       " 14: 19,\n",
       " 4: 20,\n",
       " 11: 22,\n",
       " 0: 23,\n",
       " 15: 24,\n",
       " 2: 25,\n",
       " 6: 29,\n",
       " 3: 30,\n",
       " 5: 32,\n",
       " 7: 39}"
      ]
     },
     "execution_count": 79,
     "metadata": {},
     "output_type": "execute_result"
    }
   ],
   "source": [
    "first_part_result_om = optimize_team_project_distribution(first_part.T)\n",
    "first_part_result_om"
   ]
  },
  {
   "cell_type": "code",
   "execution_count": 80,
   "id": "c532525c",
   "metadata": {},
   "outputs": [
    {
     "data": {
      "text/plain": [
       "{0: 23,\n",
       " 11: 8,\n",
       " 18: 25,\n",
       " 10: 30,\n",
       " 3: 20,\n",
       " 33: 32,\n",
       " 25: 29,\n",
       " 13: 39,\n",
       " 4: 15,\n",
       " 22: 9,\n",
       " 23: 14,\n",
       " 2: 22,\n",
       " 5: 10,\n",
       " 12: 17,\n",
       " 1: 19,\n",
       " 9: 24,\n",
       " 24: 5}"
      ]
     },
     "execution_count": 80,
     "metadata": {},
     "output_type": "execute_result"
    }
   ],
   "source": [
    "correct_first_part_result_om = {list_of_first_part_indexes[i]: first_part_result_om[i] for i in range(len(list_of_first_part_indexes))}\n",
    "correct_first_part_result_om"
   ]
  },
  {
   "cell_type": "code",
   "execution_count": 81,
   "id": "c8bab9b5",
   "metadata": {},
   "outputs": [
    {
     "data": {
      "text/plain": [
       "{16: 5,\n",
       " 1: 8,\n",
       " 9: 9,\n",
       " 12: 10,\n",
       " 10: 14,\n",
       " 8: 15,\n",
       " 13: 17,\n",
       " 14: 19,\n",
       " 4: 20,\n",
       " 11: 22,\n",
       " 0: 23,\n",
       " 15: 24,\n",
       " 2: 25,\n",
       " 6: 29,\n",
       " 3: 30,\n",
       " 5: 32,\n",
       " 7: 39}"
      ]
     },
     "execution_count": 81,
     "metadata": {},
     "output_type": "execute_result"
    }
   ],
   "source": [
    "first_part_result_om"
   ]
  },
  {
   "cell_type": "code",
   "execution_count": 82,
   "id": "5f360c62",
   "metadata": {},
   "outputs": [
    {
     "data": {
      "text/plain": [
       "250.4311702865058"
      ]
     },
     "execution_count": 82,
     "metadata": {},
     "output_type": "execute_result"
    }
   ],
   "source": [
    "first_part_score = 0.0\n",
    "for key in first_part_result_om.keys():\n",
    "    first_part_score += first_part[key][first_part_result_om[key]]\n",
    "\n",
    "first_part_score"
   ]
  },
  {
   "cell_type": "code",
   "execution_count": 83,
   "id": "1ec21819",
   "metadata": {},
   "outputs": [
    {
     "data": {
      "text/plain": [
       "{0,\n",
       " 1,\n",
       " 2,\n",
       " 3,\n",
       " 4,\n",
       " 5,\n",
       " 6,\n",
       " 7,\n",
       " 8,\n",
       " 9,\n",
       " 10,\n",
       " 11,\n",
       " 12,\n",
       " 13,\n",
       " 14,\n",
       " 15,\n",
       " 16,\n",
       " 17,\n",
       " 18,\n",
       " 19,\n",
       " 20,\n",
       " 21,\n",
       " 22,\n",
       " 23,\n",
       " 24,\n",
       " 25,\n",
       " 26,\n",
       " 27,\n",
       " 28,\n",
       " 29,\n",
       " 30,\n",
       " 31,\n",
       " 32,\n",
       " 33}"
      ]
     },
     "execution_count": 83,
     "metadata": {},
     "output_type": "execute_result"
    }
   ],
   "source": [
    "indexes_rows = set(range(len(grade_of_optimality_of_a_projects_for_a_teams.T)))\n",
    "indexes_rows"
   ]
  },
  {
   "cell_type": "code",
   "execution_count": 84,
   "id": "723f7f85",
   "metadata": {},
   "outputs": [
    {
     "data": {
      "text/plain": [
       "{6, 7, 8, 14, 15, 16, 17, 19, 20, 21, 26, 27, 28, 29, 30, 31, 32}"
      ]
     },
     "execution_count": 84,
     "metadata": {},
     "output_type": "execute_result"
    }
   ],
   "source": [
    "second_part_indexes = indexes_rows.difference(set(list_of_first_part_indexes))\n",
    "second_part_indexes"
   ]
  },
  {
   "cell_type": "code",
   "execution_count": 85,
   "id": "517d9124",
   "metadata": {},
   "outputs": [
    {
     "data": {
      "text/plain": [
       "(17, 40)"
      ]
     },
     "execution_count": 85,
     "metadata": {},
     "output_type": "execute_result"
    }
   ],
   "source": [
    "second_part = grade_of_optimality_of_a_projects_for_a_teams.T[list(second_part_indexes)]\n",
    "second_part.shape"
   ]
  },
  {
   "cell_type": "code",
   "execution_count": 86,
   "id": "a62fbe23",
   "metadata": {},
   "outputs": [
    {
     "name": "stdout",
     "output_type": "stream",
     "text": [
      "[ 0  1  2  7 12 13 14 16 17 22 23 24 32 34 35 36 39]\n"
     ]
    },
    {
     "data": {
      "text/plain": [
       "{10: 0,\n",
       " 2: 1,\n",
       " 12: 2,\n",
       " 13: 7,\n",
       " 1: 12,\n",
       " 3: 13,\n",
       " 5: 14,\n",
       " 6: 16,\n",
       " 16: 17,\n",
       " 0: 22,\n",
       " 9: 23,\n",
       " 14: 24,\n",
       " 15: 32,\n",
       " 4: 34,\n",
       " 11: 35,\n",
       " 8: 36,\n",
       " 7: 39}"
      ]
     },
     "execution_count": 86,
     "metadata": {},
     "output_type": "execute_result"
    }
   ],
   "source": [
    "second_part_result_om = optimize_team_project_distribution(second_part.T)\n",
    "second_part_result_om"
   ]
  },
  {
   "cell_type": "code",
   "execution_count": 87,
   "id": "0c2edaf4",
   "metadata": {},
   "outputs": [
    {
     "data": {
      "text/plain": [
       "{32: 22,\n",
       " 6: 12,\n",
       " 7: 1,\n",
       " 8: 13,\n",
       " 14: 34,\n",
       " 15: 14,\n",
       " 16: 16,\n",
       " 17: 39,\n",
       " 19: 36,\n",
       " 20: 23,\n",
       " 21: 0,\n",
       " 26: 35,\n",
       " 27: 2,\n",
       " 28: 7,\n",
       " 29: 24,\n",
       " 30: 32,\n",
       " 31: 17}"
      ]
     },
     "execution_count": 87,
     "metadata": {},
     "output_type": "execute_result"
    }
   ],
   "source": [
    "correct_second_part_result_om = {list(second_part_indexes)[i]: second_part_result_om[i] for i in range(len(second_part_indexes))}\n",
    "correct_second_part_result_om"
   ]
  },
  {
   "cell_type": "code",
   "execution_count": 88,
   "id": "a1317532",
   "metadata": {},
   "outputs": [
    {
     "data": {
      "text/plain": [
       "239.5951569253049"
      ]
     },
     "execution_count": 88,
     "metadata": {},
     "output_type": "execute_result"
    }
   ],
   "source": [
    "second_part_score = 0\n",
    "for i in range(len(second_part_result_om)):\n",
    "    second_part_score += second_part[i][second_part_result_om[i]]\n",
    "\n",
    "second_part_score"
   ]
  },
  {
   "cell_type": "code",
   "execution_count": 89,
   "id": "64ab575d",
   "metadata": {},
   "outputs": [
    {
     "data": {
      "text/plain": [
       "490.02632721181067"
      ]
     },
     "execution_count": 89,
     "metadata": {},
     "output_type": "execute_result"
    }
   ],
   "source": [
    "first_part_score + second_part_score # win"
   ]
  },
  {
   "cell_type": "code",
   "execution_count": 90,
   "id": "8f75b534",
   "metadata": {},
   "outputs": [
    {
     "data": {
      "text/plain": [
       "490.0263272118108"
      ]
     },
     "execution_count": 90,
     "metadata": {},
     "output_type": "execute_result"
    }
   ],
   "source": [
    "merged_dict = {**correct_first_part_result_om, **correct_second_part_result_om}\n",
    "get_score_of_distribution(grade_of_optimality_of_a_projects_for_a_teams, merged_dict)"
   ]
  },
  {
   "cell_type": "code",
   "execution_count": 132,
   "id": "03d70007",
   "metadata": {},
   "outputs": [
    {
     "data": {
      "text/plain": [
       "490.0263272118108"
      ]
     },
     "execution_count": 132,
     "metadata": {},
     "output_type": "execute_result"
    }
   ],
   "source": [
    "def KMeans_distribution(df):\n",
    "    kmeans = \\\n",
    "        KMeans(n_clusters=df.T.shape[0]//2, random_state=0, n_init=\"auto\")\\\n",
    "        .fit(df.T)\n",
    "    result_kmeans = kmeans.predict(df.T)\n",
    "    \n",
    "    list_of_first_part_indexes = []\n",
    "    for i in np.unique(result_kmeans):\n",
    "       list_of_first_part_indexes.append(np.where(result_kmeans == i)[0][0])\n",
    "\n",
    "    first_part = df.T[list_of_first_part_indexes]\n",
    "    first_part.shape\n",
    "    \n",
    "    first_part_result_om = optimize_team_project_distribution(first_part.T)\n",
    "    first_part_result_om\n",
    "    \n",
    "    correct_first_part_result_om = {list_of_first_part_indexes[i]: first_part_result_om[i] for i in range(len(list_of_first_part_indexes))}\n",
    "    correct_first_part_result_om\n",
    "    \n",
    "    indexes_rows = set(range(len(df.T)))\n",
    "    \n",
    "    second_part_indexes = indexes_rows.difference(set(list_of_first_part_indexes))\n",
    "    \n",
    "    second_part = df.T[list(second_part_indexes)]\n",
    "    \n",
    "    second_part_result_om = optimize_team_project_distribution(second_part.T)\n",
    "    \n",
    "    correct_second_part_result_om = {list(second_part_indexes)[i]: second_part_result_om[i] for i in range(len(second_part_indexes))}\n",
    "\n",
    "    merged_dict = {**correct_first_part_result_om, **correct_second_part_result_om}\n",
    "\n",
    "    return merged_dict\n",
    "\n",
    "get_score_of_distribution(grade_of_optimality_of_a_projects_for_a_teams, KMeans_distribution(grade_of_optimality_of_a_projects_for_a_teams))"
   ]
  },
  {
   "cell_type": "code",
   "execution_count": 91,
   "id": "72c2f235",
   "metadata": {},
   "outputs": [],
   "source": [
    "grade_of_optimality_of_a_teams_for_a_projects = grade_of_optimality_of_a_projects_for_a_teams.T"
   ]
  },
  {
   "cell_type": "code",
   "execution_count": 124,
   "id": "292117e3",
   "metadata": {},
   "outputs": [
    {
     "name": "stdout",
     "output_type": "stream",
     "text": [
      "{0: 0, 1: 1, 2: 2, 3: 3, 4: 4, 5: 5, 6: 6, 7: 7, 8: 8, 9: 9, 10: 10, 11: 11, 12: 12, 13: 13, 14: 14, 15: 15, 16: 16, 17: 17, 18: 18, 19: 19, 20: 20, 21: 21, 22: 22, 23: 23, 24: 24, 25: 25, 26: 26, 27: 27, 28: 28, 29: 29, 30: 30, 31: 31, 32: 32, 33: 33}\n"
     ]
    }
   ],
   "source": [
    "#5\n",
    "import numpy as np\n",
    "from scipy.optimize import linprog\n",
    "\n",
    "def optimal_project_assignment(grade_of_optimality_of_a_projects_for_a_teams):\n",
    "    # Преобразуем оценки в матрицу\n",
    "    grades = np.array(grade_of_optimality_of_a_projects_for_a_teams)\n",
    "    \n",
    "    # Определяем количество команд и проектов\n",
    "    num_teams = grades.shape[0]\n",
    "    num_projects = grades.shape[1]\n",
    "    \n",
    "    # Формулируем задачу оптимизации\n",
    "    # Матрица коэффициентов ограничений\n",
    "    A_eq = np.zeros((num_teams + num_projects, num_teams * num_projects))\n",
    "    \n",
    "    # Вектор оценок\n",
    "    c = -grades.flatten()  # Меняем знак, так как linprog решает задачу минимизации\n",
    "    \n",
    "    # Создаем словарь для сохранения результата\n",
    "    assignment = {}\n",
    "    \n",
    "    if num_teams >= num_projects:\n",
    "        # Если количество команд больше или равно числу проектов,\n",
    "        # каждый проект будет назначен на свою команду\n",
    "        for project_idx in range(num_projects):\n",
    "            assignment[project_idx] = project_idx\n",
    "    else:\n",
    "        # Задаем ограничения равенства для каждого проекта\n",
    "        for project_idx in range(num_projects):\n",
    "            A_eq[num_teams + project_idx, project_idx::num_projects] = 1\n",
    "        \n",
    "        # Решаем задачу линейного программирования\n",
    "        bounds = [(0, 1) for _ in range(num_teams * num_projects)]\n",
    "        res = linprog(c, A_eq=A_eq, b_eq=np.ones(num_teams), bounds=bounds, method='highs')\n",
    "        \n",
    "        # Получаем результаты назначения команд на проекты\n",
    "        x = np.round(res.x).astype(int)\n",
    "        for team_idx, project_idx in enumerate(x):\n",
    "            if project_idx == 1:\n",
    "                assignment[team_idx] = np.argmax(grades[:, team_idx])\n",
    "    \n",
    "    return assignment\n",
    "\n",
    "result_lp = optimal_project_assignment(grade_of_optimality_of_a_teams_for_a_projects.T)\n",
    "print(result_lp)\n"
   ]
  },
  {
   "cell_type": "code",
   "execution_count": 125,
   "id": "1a562052",
   "metadata": {},
   "outputs": [
    {
     "data": {
      "text/plain": [
       "11.384273408290856"
      ]
     },
     "execution_count": 125,
     "metadata": {},
     "output_type": "execute_result"
    }
   ],
   "source": [
    "get_score_of_distribution(grade_of_optimality_of_a_projects_for_a_teams, result_lp)"
   ]
  },
  {
   "cell_type": "code",
   "execution_count": 94,
   "id": "7a47238b",
   "metadata": {},
   "outputs": [
    {
     "name": "stdout",
     "output_type": "stream",
     "text": [
      "{0: 23, 1: 19, 2: 22, 3: 20, 4: 15, 5: 10, 6: 12, 7: 1, 8: 13, 9: 24, 10: 19, 11: 32, 12: 17, 13: 39, 14: 32, 15: 14, 16: 16, 17: 39, 18: 25, 19: 36, 20: 23, 21: 0, 22: 9, 23: 14, 24: 5, 25: 29, 26: 35, 27: 2, 28: 7, 29: 16, 30: 32, 31: 17, 32: 22, 33: 32}\n"
     ]
    }
   ],
   "source": [
    "#6\n",
    "import numpy as np\n",
    "\n",
    "def recommend_projects(grade_of_optimality_of_a_teams_for_a_projects):\n",
    "    # Преобразуем оценки в матрицу\n",
    "    grades = np.array(grade_of_optimality_of_a_teams_for_a_projects)\n",
    "    \n",
    "    # Применяем SVD для матрицы оценок\n",
    "    U, S, Vt = np.linalg.svd(grades)\n",
    "    \n",
    "    # Задаем количество факторов (компонент), которые будут использованы для рекомендаций\n",
    "    num_factors = min(grades.shape) - 1\n",
    "    \n",
    "    # Получаем матрицы U', S' и V'^T с использованием только первых num_factors факторов\n",
    "    U_prime = U[:, :num_factors]\n",
    "    S_prime = np.diag(S[:num_factors])\n",
    "    Vt_prime = Vt[:num_factors, :]\n",
    "    \n",
    "    # Выполняем реконструкцию матрицы оценок\n",
    "    grades_reconstructed = U_prime @ S_prime @ Vt_prime\n",
    "    \n",
    "    # Используем реконструированную матрицу оценок для рекомендации проектов для команд\n",
    "    assignment = {}\n",
    "    for team_idx in range(grades_reconstructed.shape[0]):\n",
    "        assignment[team_idx] = np.argmax(grades_reconstructed[team_idx, :])\n",
    "    \n",
    "    return assignment\n",
    "\n",
    "result_recommendation = recommend_projects(grade_of_optimality_of_a_teams_for_a_projects)\n",
    "print(result_recommendation)\n"
   ]
  },
  {
   "cell_type": "code",
   "execution_count": 95,
   "id": "b55ea440",
   "metadata": {},
   "outputs": [
    {
     "data": {
      "text/plain": [
       "494.72537447117617"
      ]
     },
     "execution_count": 95,
     "metadata": {},
     "output_type": "execute_result"
    }
   ],
   "source": [
    "get_score_of_distribution(grade_of_optimality_of_a_projects_for_a_teams, result_recommendation)"
   ]
  },
  {
   "cell_type": "code",
   "execution_count": 96,
   "id": "16b859a9",
   "metadata": {},
   "outputs": [
    {
     "data": {
      "text/plain": [
       "(34, 34)"
      ]
     },
     "execution_count": 96,
     "metadata": {},
     "output_type": "execute_result"
    }
   ],
   "source": [
    "abba = grade_of_optimality_of_a_teams_for_a_projects[:,0:34]\n",
    "abba.shape"
   ]
  },
  {
   "cell_type": "code",
   "execution_count": 98,
   "id": "79094a54",
   "metadata": {},
   "outputs": [
    {
     "name": "stdout",
     "output_type": "stream",
     "text": [
      "{0: 23, 1: 19, 2: 22, 3: 20, 4: 15, 5: 10, 6: 12, 7: 1, 8: 13, 9: 24, 10: 30, 11: 32, 12: 17, 13: 39, 14: 34, 15: 14, 16: 16, 17: 11, 18: 25, 19: 36, 20: 6, 21: 0, 22: 9, 23: 33, 24: 5, 25: 29, 26: 35, 27: 2, 28: 7, 29: 27, 30: 4, 31: 3, 32: 21, 33: 8}\n"
     ]
    }
   ],
   "source": [
    "#7\n",
    "def board_voting(grade_of_optimality_of_a_teams_for_a_projects):\n",
    "    num_teams = len(grade_of_optimality_of_a_teams_for_a_projects)\n",
    "    num_projects = len(grade_of_optimality_of_a_teams_for_a_projects[0])\n",
    "\n",
    "    # Создаем список команд\n",
    "    teams = list(range(num_teams))\n",
    "\n",
    "    # Создаем список проектов\n",
    "    projects = list(range(num_projects))\n",
    "\n",
    "    # Создаем словарь для хранения результатов\n",
    "    assignment = {}\n",
    "\n",
    "    # Проходим по каждой команде\n",
    "    for team in teams:\n",
    "        # Получаем оценки для данной команды\n",
    "        team_grades = grade_of_optimality_of_a_teams_for_a_projects[team]\n",
    "\n",
    "        # Сортируем проекты по оценкам в убывающем порядке\n",
    "        sorted_projects = sorted(projects, key=lambda project: team_grades[project], reverse=True)\n",
    "\n",
    "        # Выбираем проект с наивысшим рангом, на котором команда может работать\n",
    "        for project in sorted_projects:\n",
    "            if project not in assignment.values():\n",
    "                assignment[team] = project\n",
    "                break\n",
    "\n",
    "    return assignment\n",
    "\n",
    "result_board = board_voting(grade_of_optimality_of_a_teams_for_a_projects)\n",
    "print(result_board)\n"
   ]
  },
  {
   "cell_type": "code",
   "execution_count": 99,
   "id": "04cd9658",
   "metadata": {},
   "outputs": [
    {
     "data": {
      "text/plain": [
       "450.90665574328494"
      ]
     },
     "execution_count": 99,
     "metadata": {},
     "output_type": "execute_result"
    }
   ],
   "source": [
    "get_score_of_distribution(grade_of_optimality_of_a_projects_for_a_teams, result_board)"
   ]
  },
  {
   "cell_type": "code",
   "execution_count": 122,
   "id": "eed8ee8f",
   "metadata": {},
   "outputs": [],
   "source": [
    "def get_mean_score(iters, algo, is_T):\n",
    "    score = 0.0\n",
    "    for iter_i in range(iters):\n",
    "        N_hard_skills = 200\n",
    "        N_students = 100\n",
    "        students_hard_skills = df_random((N_students, N_hard_skills), 0, 1)\n",
    "\n",
    "        N_projects = 40\n",
    "        projects_hard_skills = df_random((N_projects, N_hard_skills), 0, 1)\n",
    "\n",
    "        N_managers = 20\n",
    "        N_manager_hard_skills = 30\n",
    "        managers_require_hard_skills = df_random((N_projects, N_manager_hard_skills), 0, 1)\n",
    "        df_of_zeroes = df_random((N_projects, N_hard_skills - N_manager_hard_skills), 0, 0)\n",
    "        managers_require_hard_skills = pd.concat([managers_require_hard_skills, df_of_zeroes], ignore_index=True, axis=1)\n",
    "\n",
    "        # словарь соответстия проекта руководителю\n",
    "        project_to_manager = {}\n",
    "        for i in range(N_projects):\n",
    "            project_to_manager[i] = i%N_managers\n",
    "\n",
    "        student_grades_for_projects = np.random.rand(N_students, N_projects)*2-1\n",
    "\n",
    "        grades_of_optimality_of_students_for_projects = get_grades_of_optimality_of_a_projects_for_a_students([q_1, q_2],\n",
    "                                                          student_grades_for_projects,\n",
    "                                                          coefficients_of_significance_of_hard_skills,\n",
    "                                                          students_hard_skills,\n",
    "                                                          projects_hard_skills,\n",
    "                                                          project_to_manager)\n",
    "\n",
    "        grade_of_optimality_of_a_projects_for_a_teams = get_grade_of_optimality_of_a_projects_for_a_teams(teams, grades_of_optimality_of_students_for_projects)\n",
    "\n",
    "    \n",
    "        if is_T:\n",
    "            df = grade_of_optimality_of_a_projects_for_a_teams.T\n",
    "        else:\n",
    "            df = grade_of_optimality_of_a_projects_for_a_teams\n",
    "        addition = get_score_of_distribution(grade_of_optimality_of_a_projects_for_a_teams, algo(df))\n",
    "        score += addition\n",
    "        print(f'\\t{iter_i}: {addition}')\n",
    "        \n",
    "    return score/iters"
   ]
  },
  {
   "cell_type": "code",
   "execution_count": 134,
   "id": "96890036",
   "metadata": {},
   "outputs": [
    {
     "name": "stdout",
     "output_type": "stream",
     "text": [
      "\t0: 480.907561558624\n",
      "\t1: 465.4001892758333\n",
      "\t2: 476.99786349086025\n",
      "\t3: 483.84861946755893\n",
      "\t4: 479.0603868271078\n",
      "\t5: 487.5721712378085\n",
      "\t6: 498.09585728815404\n",
      "\t7: 477.04498049795217\n",
      "\t8: 470.6866650703626\n",
      "\t9: 493.8535197074667\n",
      "4. KMeans and linear_sum_assignment mean score 481.34678144217287\n",
      "\t0: 463.01738228421675\n",
      "\t1: 476.09456690367705\n",
      "\t2: 471.556688656117\n",
      "\t3: 451.8342539195792\n",
      "\t4: 443.5359082449329\n",
      "\t5: 466.8578428149006\n",
      "\t6: 468.4987820338923\n",
      "\t7: 455.7975538892451\n",
      "\t8: 449.8207634346706\n",
      "\t9: 469.31243076154016\n",
      "1. linear_sum_assignment mean score 461.6326172942772\n",
      "\t0: 4.820446413017622\n",
      "\t1: 66.00832027700099\n",
      "\t2: 43.86069327118596\n",
      "\t3: 19.80583833112648\n",
      "\t4: 13.77675988854237\n",
      "\t5: -31.378805828442147\n",
      "\t6: 4.641217970285819\n",
      "\t7: -45.972744667952355\n",
      "\t8: -39.37375902131013\n",
      "\t9: 77.27983970893546\n",
      "2. random mean score 11.346780634239002\n",
      "\t0: 59.498595972622056\n",
      "\t1: 54.37951018197522\n",
      "\t2: 52.963334874903694\n",
      "\t3: 14.601961292019135\n",
      "\t4: -2.156712444041231\n",
      "\t5: 35.202775186764406\n",
      "\t6: 48.96637211256017\n",
      "\t7: -36.97306125395419\n",
      "\t8: 67.48650379125634\n",
      "\t9: -17.350346631473112\n",
      "3. genetic alghoritm mean score 27.661893308263245\n",
      "\t0: 494.9143415264927\n",
      "\t1: 521.3006359007213\n",
      "\t2: 496.2805308108951\n",
      "\t3: 495.4565400760301\n",
      "\t4: 476.7822822178888\n",
      "\t5: 476.1003378311877\n",
      "\t6: 469.1967856852912\n",
      "\t7: 471.1814001155733\n",
      "\t8: 477.857046659278\n",
      "\t9: 473.7292113627995\n",
      "6. recommend_projects mean score 485.27991121861567\n",
      "\t0: 421.010088058347\n",
      "\t1: 421.01096483048457\n",
      "\t2: 383.41719897382535\n",
      "\t3: 410.76536162536803\n",
      "\t4: 401.74254175373767\n",
      "\t5: 444.2740421229858\n",
      "\t6: 408.54393750695823\n",
      "\t7: 449.9856100644527\n",
      "\t8: 424.61065449013853\n",
      "\t9: 447.32728352388915\n",
      "7. board_voting mean score 421.26876829501873\n"
     ]
    }
   ],
   "source": [
    "iters = 10\n",
    "mean_KMeans = get_mean_score(iters, KMeans_distribution, False)\n",
    "print(f'4. KMeans and linear_sum_assignment mean score {mean_KMeans}')\n",
    "\n",
    "mean_linear_sum_assignment = get_mean_score(iters, optimize_team_project_distribution, False)\n",
    "print(f'1. linear_sum_assignment mean score {mean_linear_sum_assignment}')\n",
    "\n",
    "mean_random = get_mean_score(iters, random_team_project_distribution, True)\n",
    "print(f'2. random mean score {mean_random}')\n",
    "\n",
    "mean_ga = get_mean_score(iters, GA, True)\n",
    "print(f'3. genetic alghoritm mean score {mean_ga}')\n",
    "\n",
    "# mean_optimal_project_assignment = get_mean_score(iters, optimal_project_assignment, False)\n",
    "# print(f'5. optimal_project_assignment mean score {mean_optimal_project_assignment}')\n",
    "\n",
    "mean_recommend_projects = get_mean_score(iters, recommend_projects, True)\n",
    "print(f'6. recommend_projects mean score {mean_recommend_projects}')\n",
    "\n",
    "mean_board_voting = get_mean_score(iters, board_voting, True)\n",
    "print(f'7. board_voting mean score {mean_board_voting}')"
   ]
  },
  {
   "cell_type": "code",
   "execution_count": 135,
   "id": "2c8880fc",
   "metadata": {},
   "outputs": [
    {
     "name": "stdout",
     "output_type": "stream",
     "text": [
      "\t0: 479.0558265038967\n",
      "\t1: 484.3646955845183\n",
      "\t2: 473.59874005958073\n",
      "\t3: 444.33710748118665\n",
      "\t4: 492.04251358746296\n",
      "\t5: 482.0232940211956\n",
      "\t6: 472.1397294080578\n",
      "\t7: 453.78001694538284\n",
      "\t8: 490.6005844414481\n",
      "\t9: 473.41461538801417\n",
      "\t10: 438.1862696393926\n",
      "\t11: 483.6987215720322\n",
      "\t12: 482.42708983000574\n",
      "\t13: 495.07483682269606\n",
      "\t14: 453.60510074112574\n",
      "\t15: 482.42256932331185\n",
      "\t16: 459.77401377124943\n",
      "\t17: 472.82937840881306\n",
      "\t18: 478.8483061441046\n",
      "\t19: 498.43427135475383\n",
      "\t20: 460.1343131440007\n",
      "\t21: 503.1273860699249\n",
      "\t22: 485.18972321443\n",
      "\t23: 506.8702106066624\n",
      "\t24: 470.13729848000673\n",
      "\t25: 458.3425259863504\n",
      "\t26: 512.5644229454772\n",
      "\t27: 459.04607291930773\n",
      "\t28: 504.115050010853\n",
      "\t29: 471.0636026899082\n",
      "\t30: 491.3036259247441\n",
      "\t31: 466.5462715553602\n",
      "\t32: 481.58947839377726\n",
      "\t33: 504.22989860941857\n",
      "\t34: 465.9996901725161\n",
      "\t35: 481.0003274567098\n",
      "\t36: 493.29705189313006\n",
      "\t37: 464.091196599503\n",
      "\t38: 473.82182601503973\n",
      "\t39: 498.5671868506311\n",
      "\t40: 487.30738904231026\n",
      "\t41: 497.94526744878715\n",
      "\t42: 508.43784580309153\n",
      "\t43: 469.45660256115275\n",
      "\t44: 460.6046463740783\n",
      "\t45: 496.2029522496475\n",
      "\t46: 478.95889566071656\n",
      "\t47: 476.7360905532592\n",
      "\t48: 503.11859170515885\n",
      "\t49: 495.42227513765664\n",
      "\t50: 508.55294630551185\n",
      "\t51: 495.0751731778859\n",
      "\t52: 479.1086148733507\n",
      "\t53: 482.0715991851725\n",
      "\t54: 458.16549128033114\n",
      "\t55: 471.62433509943537\n",
      "\t56: 483.5268416070122\n",
      "\t57: 497.72111790654446\n",
      "\t58: 455.9881352395167\n",
      "\t59: 496.5367278203991\n",
      "\t60: 481.152525266445\n",
      "\t61: 483.2672302524809\n",
      "\t62: 501.9350605523344\n",
      "\t63: 480.6289420512006\n",
      "\t64: 470.8220693958588\n",
      "\t65: 496.65755469334306\n",
      "\t66: 468.3734852337146\n",
      "\t67: 484.2792453536149\n",
      "\t68: 493.12885517914737\n",
      "\t69: 493.904459205054\n",
      "\t70: 480.6480783951759\n",
      "\t71: 482.7481916298962\n",
      "\t72: 465.73999200290154\n",
      "\t73: 486.3630426292231\n",
      "\t74: 505.71130764525674\n",
      "\t75: 471.768531483194\n",
      "\t76: 490.13590089229046\n",
      "\t77: 451.40259859193634\n",
      "\t78: 491.1214538900852\n",
      "\t79: 466.0397580717001\n",
      "\t80: 470.3855756190275\n",
      "\t81: 482.5130805536601\n",
      "\t82: 479.53489488635364\n",
      "\t83: 452.7397543209619\n",
      "\t84: 465.5682570843571\n",
      "\t85: 488.21548586252345\n",
      "\t86: 497.14623166746645\n",
      "\t87: 506.1866152162718\n",
      "\t88: 470.02162264126446\n",
      "\t89: 467.6050758095729\n",
      "\t90: 478.1897787528131\n",
      "\t91: 472.91615182718346\n",
      "\t92: 463.93907679801526\n",
      "\t93: 496.4606312071047\n",
      "\t94: 498.1575036626675\n",
      "\t95: 470.75644952740964\n",
      "\t96: 442.80727748653345\n",
      "\t97: 466.9495313364969\n",
      "\t98: 508.4113447217148\n",
      "\t99: 447.1992349762025\n",
      "4. KMeans and linear_sum_assignment mean score 480.1578823596945\n",
      "\t0: 459.5813245557775\n",
      "\t1: 471.68486394469124\n",
      "\t2: 493.02516027388276\n",
      "\t3: 473.00615072067495\n",
      "\t4: 477.73533540909807\n",
      "\t5: 481.3514550185443\n",
      "\t6: 460.0234459217955\n",
      "\t7: 482.7860424933426\n",
      "\t8: 470.77368530346007\n",
      "\t9: 446.26927544614324\n",
      "\t10: 442.1334319559296\n",
      "\t11: 452.47549503809574\n",
      "\t12: 428.9020578310836\n",
      "\t13: 462.11990639208204\n",
      "\t14: 452.8599494456604\n",
      "\t15: 458.84983291252985\n",
      "\t16: 467.76923917643524\n",
      "\t17: 471.05485669703046\n",
      "\t18: 428.6904831723855\n",
      "\t19: 453.8427041455662\n",
      "\t20: 469.3661557887624\n",
      "\t21: 471.2221634774188\n",
      "\t22: 449.55678562555937\n",
      "\t23: 445.6623489309791\n",
      "\t24: 465.43038352408894\n",
      "\t25: 458.36618493448856\n",
      "\t26: 474.79542383965327\n",
      "\t27: 450.34272082384786\n",
      "\t28: 475.53602122344836\n",
      "\t29: 452.6864491786084\n",
      "\t30: 473.65024512438345\n",
      "\t31: 470.9702987131524\n",
      "\t32: 468.3143528963367\n",
      "\t33: 473.38392197409064\n",
      "\t34: 448.63226450355063\n",
      "\t35: 460.95512171048733\n",
      "\t36: 466.76201640776935\n",
      "\t37: 452.55488489593023\n",
      "\t38: 447.0271306288792\n",
      "\t39: 460.95175798429875\n",
      "\t40: 453.92219896182394\n",
      "\t41: 472.2744069633627\n",
      "\t42: 438.3586232908664\n",
      "\t43: 450.9215600064376\n",
      "\t44: 480.41331927172854\n",
      "\t45: 472.0623141513664\n",
      "\t46: 472.97983910437955\n",
      "\t47: 452.9525139008044\n",
      "\t48: 472.73619443641934\n",
      "\t49: 462.56052452977366\n",
      "\t50: 476.71004313681806\n",
      "\t51: 472.48894081782674\n",
      "\t52: 467.1362701461069\n",
      "\t53: 484.6273187788864\n",
      "\t54: 459.7919495732844\n",
      "\t55: 416.9869479085646\n",
      "\t56: 444.0377307148313\n",
      "\t57: 478.86984688959916\n",
      "\t58: 464.86401214722434\n",
      "\t59: 432.17604557167533\n",
      "\t60: 451.07747602833825\n",
      "\t61: 458.1838490873298\n",
      "\t62: 454.9118404318944\n",
      "\t63: 442.6249616975841\n",
      "\t64: 470.17174661649665\n",
      "\t65: 500.14533182023206\n",
      "\t66: 458.24390492565504\n",
      "\t67: 429.38575820938706\n",
      "\t68: 471.1018686272712\n",
      "\t69: 455.0891661309988\n",
      "\t70: 446.3121582152069\n",
      "\t71: 436.5772965376776\n",
      "\t72: 452.15157178320317\n",
      "\t73: 451.13719210086384\n",
      "\t74: 492.90396100669506\n",
      "\t75: 449.31944210087784\n",
      "\t76: 464.67568641458615\n",
      "\t77: 466.01889440273095\n",
      "\t78: 451.83094107885415\n",
      "\t79: 471.1250212620457\n",
      "\t80: 458.0946389423829\n",
      "\t81: 497.362302252286\n",
      "\t82: 462.58195719110034\n",
      "\t83: 453.0999694114038\n",
      "\t84: 457.5741348069847\n",
      "\t85: 473.90156565123243\n",
      "\t86: 486.40540510881436\n",
      "\t87: 451.62476738109797\n",
      "\t88: 450.05432835353844\n",
      "\t89: 460.73729076614\n",
      "\t90: 439.45844990241756\n",
      "\t91: 455.24697189062977\n",
      "\t92: 459.3529734548448\n",
      "\t93: 467.0461443288447\n",
      "\t94: 448.8813529220201\n",
      "\t95: 499.3079449804281\n",
      "\t96: 444.3567270771496\n",
      "\t97: 460.71064328805284\n",
      "\t98: 475.0671834602512\n",
      "\t99: 501.1300971342736\n",
      "1. linear_sum_assignment mean score 461.72954845123576\n",
      "\t0: -17.50929880920178\n",
      "\t1: -41.15360811454479\n",
      "\t2: 47.31818542185746\n",
      "\t3: 6.685011257225238\n",
      "\t4: -40.602529903201514\n",
      "\t5: -95.2724739896432\n",
      "\t6: -75.00290672058449\n",
      "\t7: 88.982158642356\n",
      "\t8: -23.75931967100347\n",
      "\t9: -56.26462583588805\n",
      "\t10: -31.93227632539064\n",
      "\t11: -3.4724860213941096\n",
      "\t12: 73.64124744586402\n",
      "\t13: -0.8248276587274948\n",
      "\t14: -6.2200960701509125\n",
      "\t15: 20.06925866638771\n",
      "\t16: 18.729077649901917\n",
      "\t17: 55.09348092983555\n",
      "\t18: -7.365043608869293\n",
      "\t19: -60.334875778705765\n",
      "\t20: -92.1772844775407\n",
      "\t21: 19.153164087406683\n",
      "\t22: 82.40441097443215\n",
      "\t23: -41.58356348248674\n",
      "\t24: 11.510618985360402\n",
      "\t25: 14.328251132253921\n",
      "\t26: 72.19540759677578\n",
      "\t27: 34.179844712833116\n",
      "\t28: 32.07595573024538\n",
      "\t29: 49.64231624017015\n",
      "\t30: -2.379489383522408\n",
      "\t31: 86.01760007010377\n",
      "\t32: 22.31382679299611\n",
      "\t33: 1.8157453614020973\n",
      "\t34: -53.07070339956286\n",
      "\t35: 30.11593425694515\n",
      "\t36: 31.040806033625902\n",
      "\t37: -9.55052369989772\n",
      "\t38: 30.817860916882836\n",
      "\t39: -17.73501616639902\n",
      "\t40: -50.462240775335765\n",
      "\t41: -39.386627478419705\n",
      "\t42: -2.6443802124672118\n",
      "\t43: 24.358813654473813\n",
      "\t44: 4.644387181486461\n",
      "\t45: -77.77319628341549\n",
      "\t46: -1.3620646017322677\n",
      "\t47: 31.82499368771073\n",
      "\t48: -28.323904058632557\n",
      "\t49: 73.71955374092948\n",
      "\t50: 79.94175226979883\n",
      "\t51: 51.958696270213196\n",
      "\t52: 19.08667668555857\n",
      "\t53: -68.30075286035435\n",
      "\t54: -25.876407302520242\n",
      "\t55: -8.23951517791396\n",
      "\t56: 21.714501933990245\n",
      "\t57: 13.210018674207909\n",
      "\t58: -20.97744716019158\n",
      "\t59: -75.20786837042613\n",
      "\t60: 39.957616460948465\n",
      "\t61: 9.027339462045948\n",
      "\t62: 36.97850336135839\n",
      "\t63: 11.11088514272288\n",
      "\t64: 28.162505180056694\n",
      "\t65: 15.121626535402882\n",
      "\t66: -54.210633780353724\n",
      "\t67: 15.180299633367094\n",
      "\t68: 47.16034506330496\n",
      "\t69: -40.82871174250063\n",
      "\t70: 32.97813549141356\n",
      "\t71: 28.22173781063335\n",
      "\t72: -6.47671318449332\n",
      "\t73: -62.008281944216975\n",
      "\t74: -65.69466277704161\n",
      "\t75: 12.642728163569826\n",
      "\t76: 10.746224435072445\n",
      "\t77: -19.957094548912643\n",
      "\t78: 19.76949555779748\n",
      "\t79: -94.1582338688019\n",
      "\t80: 43.5907862796041\n",
      "\t81: -22.437800027581815\n",
      "\t82: -34.82238743326496\n",
      "\t83: 24.160741456695632\n",
      "\t84: 30.27340235528602\n",
      "\t85: 39.10128398877009\n",
      "\t86: -6.109460176747868\n",
      "\t87: 52.51051682296902\n",
      "\t88: 64.06534207544253\n",
      "\t89: 34.06744490260181\n",
      "\t90: 8.365570817590449\n",
      "\t91: -22.892118846063486\n",
      "\t92: -44.19140411983453\n",
      "\t93: 48.59207668140199\n",
      "\t94: -20.608042494628044\n",
      "\t95: -5.209387207020608\n",
      "\t96: -10.55129335097388\n",
      "\t97: 28.86022769776051\n",
      "\t98: -68.61296804084202\n",
      "\t99: 42.2875814033267\n",
      "2. random mean score 2.1798742684097117\n",
      "\t0: 59.4264989237578\n",
      "\t1: -63.87318476101108\n",
      "\t2: 85.96567344713935\n",
      "\t3: 5.860889358387085\n",
      "\t4: 30.733636897403226\n",
      "\t5: 44.69736999590798\n",
      "\t6: 67.44240922606242\n",
      "\t7: 23.765349202580722\n",
      "\t8: 16.405953273699133\n",
      "\t9: 27.73371717028971\n",
      "\t10: 50.17655858066943\n",
      "\t11: 20.094101244336787\n",
      "\t12: 107.39776980085728\n",
      "\t13: 49.23960240671698\n",
      "\t14: -0.5073254986810057\n",
      "\t15: 36.82636885173899\n",
      "\t16: 65.06285037168819\n",
      "\t17: -23.213516642694326\n",
      "\t18: 51.26665081976488\n",
      "\t19: -32.18554355061454\n",
      "\t20: 76.16760008791209\n",
      "\t21: 80.79571485983176\n",
      "\t22: 57.99659136965284\n",
      "\t23: 44.63185464440811\n",
      "\t24: 99.44525051325142\n",
      "\t25: 7.07424272269169\n",
      "\t26: -21.05863929990679\n",
      "\t27: 44.271183131301\n",
      "\t28: 24.220541049113912\n",
      "\t29: 101.37820109305954\n",
      "\t30: 38.59722501417312\n",
      "\t31: -41.926656418898915\n",
      "\t32: 7.519497114165095\n",
      "\t33: 157.73178268138165\n",
      "\t34: -12.160724191641371\n",
      "\t35: 51.76414562487148\n",
      "\t36: -34.860100035834506\n",
      "\t37: 55.81660431760521\n",
      "\t38: 44.62980377414739\n",
      "\t39: 61.741157493122756\n",
      "\t40: 39.897337343531994\n",
      "\t41: 79.34350502445389\n",
      "\t42: 67.58296965138318\n",
      "\t43: 53.499520636698435\n"
     ]
    },
    {
     "name": "stdout",
     "output_type": "stream",
     "text": [
      "\t44: 62.53722710522277\n",
      "\t45: 25.856033298080973\n",
      "\t46: 27.11908078196781\n",
      "\t47: 19.81375120300619\n",
      "\t48: 54.4087076593007\n",
      "\t49: 30.965269940479835\n",
      "\t50: 54.003626456134555\n",
      "\t51: 53.93785818700718\n",
      "\t52: -0.9442613524218342\n",
      "\t53: 68.87306824005931\n",
      "\t54: 39.37361772228451\n",
      "\t55: 61.06946141832619\n",
      "\t56: 66.14607453908071\n",
      "\t57: 14.66542087393686\n",
      "\t58: -18.01772370283851\n",
      "\t59: 32.010437843840336\n",
      "\t60: 33.27288817420334\n",
      "\t61: -28.575042846316464\n",
      "\t62: -3.4607350030020863\n",
      "\t63: 47.92996883882162\n",
      "\t64: 72.5956684433221\n",
      "\t65: 37.47514006500771\n",
      "\t66: 59.370751249591024\n",
      "\t67: 23.99196790934434\n",
      "\t68: -20.850053843720126\n",
      "\t69: 71.25039320980055\n",
      "\t70: 29.2944869150855\n",
      "\t71: 33.10186915864151\n",
      "\t72: 3.81602683495443\n",
      "\t73: 112.91116569953653\n",
      "\t74: 60.228040766678596\n",
      "\t75: 56.65647940869558\n",
      "\t76: 1.6043833621813324\n",
      "\t77: 91.43293302575249\n",
      "\t78: -11.241577359012073\n",
      "\t79: -3.3349004894701606\n",
      "\t80: 79.35548827369536\n",
      "\t81: -11.490480222618991\n",
      "\t82: 59.25123639238135\n",
      "\t83: 32.240931507105984\n",
      "\t84: 66.93434273218065\n",
      "\t85: 69.05203993512745\n",
      "\t86: 113.13548489395095\n",
      "\t87: 102.75912774991916\n",
      "\t88: 41.745726060297926\n",
      "\t89: -10.89886178728813\n",
      "\t90: 48.45454034709772\n",
      "\t91: 11.914965839913828\n",
      "\t92: 92.77754188569651\n",
      "\t93: 36.65403586086789\n",
      "\t94: 56.48115200971937\n",
      "\t95: 15.348738275001093\n",
      "\t96: 106.78151706245157\n",
      "\t97: 29.620354676654966\n",
      "\t98: 4.956954261206296\n",
      "\t99: -28.826776546029645\n",
      "3. genetic alghoritm mean score 38.819500002593685\n",
      "\t0: 493.67964901102295\n",
      "\t1: 489.65827219838997\n",
      "\t2: 485.286796871229\n",
      "\t3: 498.9019877392513\n",
      "\t4: 488.9669708850761\n",
      "\t5: 507.3268859349003\n",
      "\t6: 495.6568443430212\n",
      "\t7: 452.68025308567155\n",
      "\t8: 494.1698887736243\n",
      "\t9: 453.16806114959195\n",
      "\t10: 478.70918991002327\n",
      "\t11: 495.1609696659095\n",
      "\t12: 521.8836726310196\n",
      "\t13: 483.2832383583572\n",
      "\t14: 499.210667004564\n",
      "\t15: 496.3064071432467\n",
      "\t16: 471.22976053865455\n",
      "\t17: 493.11176367498183\n",
      "\t18: 476.50689645602296\n",
      "\t19: 498.9594577677808\n",
      "\t20: 521.5341146339194\n",
      "\t21: 492.5774742473514\n",
      "\t22: 479.4943478084543\n",
      "\t23: 498.1899256325353\n",
      "\t24: 481.574845109418\n",
      "\t25: 483.96234065284193\n",
      "\t26: 459.36899109932904\n",
      "\t27: 508.2202205915924\n",
      "\t28: 538.2269296715482\n",
      "\t29: 484.02971308226927\n",
      "\t30: 479.48974358295936\n",
      "\t31: 497.7215041172925\n",
      "\t32: 482.12259651390906\n",
      "\t33: 481.10729313706446\n",
      "\t34: 485.6180551622859\n",
      "\t35: 497.7701252077974\n",
      "\t36: 471.73227695441494\n",
      "\t37: 468.3868050637756\n",
      "\t38: 492.4626297888568\n",
      "\t39: 495.8997641994143\n",
      "\t40: 487.20136122162546\n",
      "\t41: 476.296196306324\n",
      "\t42: 505.27716203898115\n",
      "\t43: 490.8994037294549\n",
      "\t44: 512.965893885744\n",
      "\t45: 504.56275021932805\n",
      "\t46: 502.64848741620233\n",
      "\t47: 502.84956690763505\n",
      "\t48: 490.29856737870955\n",
      "\t49: 505.2035658424637\n",
      "\t50: 524.9859075936928\n",
      "\t51: 465.3462336978545\n",
      "\t52: 484.24627166550704\n",
      "\t53: 505.608848466226\n",
      "\t54: 497.9905889820169\n",
      "\t55: 528.9250569255685\n",
      "\t56: 475.16313325912967\n",
      "\t57: 488.3902637022862\n",
      "\t58: 491.07699448037675\n",
      "\t59: 479.6129260332558\n",
      "\t60: 484.7390865019579\n",
      "\t61: 495.6926103120983\n",
      "\t62: 488.42946426304985\n",
      "\t63: 462.5719251052825\n",
      "\t64: 493.02618681641184\n",
      "\t65: 457.406962548117\n",
      "\t66: 469.42216646817224\n",
      "\t67: 519.037335525264\n",
      "\t68: 490.9688261401435\n",
      "\t69: 510.6754348477503\n",
      "\t70: 489.7732242001908\n",
      "\t71: 484.3948462039255\n",
      "\t72: 497.2670561339797\n",
      "\t73: 491.92705117873857\n",
      "\t74: 459.5964934960764\n",
      "\t75: 513.21466227798\n",
      "\t76: 460.68725159949236\n",
      "\t77: 475.92598983396897\n",
      "\t78: 514.2797063181139\n",
      "\t79: 481.21048157695026\n",
      "\t80: 470.45133395720626\n",
      "\t81: 482.4740292159583\n",
      "\t82: 507.57907552156905\n",
      "\t83: 490.4009215939301\n",
      "\t84: 450.54436811409613\n",
      "\t85: 491.91477458405177\n",
      "\t86: 524.5741331589128\n",
      "\t87: 518.4610050967964\n",
      "\t88: 505.1148523767123\n",
      "\t89: 485.23589252266464\n",
      "\t90: 475.28216223878974\n",
      "\t91: 483.12842810239624\n",
      "\t92: 480.22130988522497\n",
      "\t93: 485.3264077663173\n",
      "\t94: 503.0800053141184\n",
      "\t95: 485.83942404062486\n",
      "\t96: 505.68618659398135\n",
      "\t97: 448.33855741436537\n",
      "\t98: 476.91816281544243\n",
      "\t99: 446.4054744215306\n",
      "6. recommend_projects mean score 489.5011977523411\n",
      "\t0: 445.37680194291806\n",
      "\t1: 419.550389839814\n",
      "\t2: 467.7963798559894\n",
      "\t3: 441.7482713367931\n",
      "\t4: 425.47752844300334\n",
      "\t5: 447.3922273420063\n",
      "\t6: 427.6579005668145\n",
      "\t7: 419.80136504565036\n",
      "\t8: 437.5700971469668\n",
      "\t9: 407.02727313863\n",
      "\t10: 402.14367754390105\n",
      "\t11: 445.20662833854016\n",
      "\t12: 452.99983009773615\n",
      "\t13: 448.53077056843165\n",
      "\t14: 449.91983048866126\n",
      "\t15: 424.0552663741471\n",
      "\t16: 450.2632533326171\n",
      "\t17: 434.5979826669019\n",
      "\t18: 436.4468549605844\n",
      "\t19: 429.1922291066482\n",
      "\t20: 440.62866554274984\n",
      "\t21: 411.1637284928669\n",
      "\t22: 452.42969203319404\n",
      "\t23: 434.69182844730324\n",
      "\t24: 432.80467826262253\n",
      "\t25: 410.4170326416543\n",
      "\t26: 415.3580106813036\n",
      "\t27: 434.1019554820547\n",
      "\t28: 428.5950114689582\n",
      "\t29: 425.4911871127619\n",
      "\t30: 397.94718624619895\n",
      "\t31: 443.0864983445386\n",
      "\t32: 430.46438365788987\n",
      "\t33: 414.6736721758962\n",
      "\t34: 400.70623468085574\n",
      "\t35: 439.3776340404628\n",
      "\t36: 430.31134436097415\n",
      "\t37: 417.35141787091175\n",
      "\t38: 440.28672325701604\n",
      "\t39: 393.31034662174056\n",
      "\t40: 426.26335578954445\n",
      "\t41: 418.4601940188416\n",
      "\t42: 440.582758828598\n",
      "\t43: 436.2838453231714\n",
      "\t44: 468.151711974014\n",
      "\t45: 453.3632127133148\n",
      "\t46: 451.80500872596053\n",
      "\t47: 455.72257633253327\n",
      "\t48: 426.4475415602533\n",
      "\t49: 432.2123745093727\n",
      "\t50: 411.47970525449546\n",
      "\t51: 427.05459381011264\n",
      "\t52: 422.6449894107821\n",
      "\t53: 439.5084036884377\n",
      "\t54: 409.29432890348323\n",
      "\t55: 459.82607925567146\n",
      "\t56: 469.13604452187025\n",
      "\t57: 441.5172204170263\n",
      "\t58: 445.76155861343983\n",
      "\t59: 442.81931679775363\n",
      "\t60: 430.81668166465244\n",
      "\t61: 445.5190456654289\n",
      "\t62: 447.9774757858321\n",
      "\t63: 420.5311381037906\n",
      "\t64: 423.5746670323211\n",
      "\t65: 467.135623841906\n",
      "\t66: 441.67605134732344\n",
      "\t67: 416.58815853966826\n",
      "\t68: 418.48449863447524\n",
      "\t69: 460.007905149486\n",
      "\t70: 407.38632307756814\n",
      "\t71: 413.38280969792027\n",
      "\t72: 435.3733257264772\n",
      "\t73: 377.3251294573131\n",
      "\t74: 442.17641473623337\n",
      "\t75: 414.55609144769414\n",
      "\t76: 437.55537028636917\n",
      "\t77: 443.08190031509355\n",
      "\t78: 428.48886556143606\n",
      "\t79: 416.47123914856286\n",
      "\t80: 397.0292095502734\n",
      "\t81: 437.9796754612767\n",
      "\t82: 423.0020687142109\n",
      "\t83: 422.04196917032465\n",
      "\t84: 446.5818190334681\n",
      "\t85: 417.97559711505477\n",
      "\t86: 432.1266100548109\n",
      "\t87: 406.5723964300382\n",
      "\t88: 438.3595247550054\n",
      "\t89: 457.83433774432007\n",
      "\t90: 453.8566569975955\n",
      "\t91: 427.7257247003253\n",
      "\t92: 463.9380540768443\n",
      "\t93: 462.12871122724874\n",
      "\t94: 417.38027831263383\n",
      "\t95: 441.9945462322311\n",
      "\t96: 409.59398736513856\n",
      "\t97: 437.82096916231274\n",
      "\t98: 422.1480770100274\n",
      "\t99: 413.1219582163853\n",
      "7. board_voting mean score 432.01607496556454\n"
     ]
    }
   ],
   "source": [
    "iters = 100\n",
    "mean_KMeans = get_mean_score(iters, KMeans_distribution, False)\n",
    "print(f'4. KMeans and linear_sum_assignment mean score {mean_KMeans}')\n",
    "\n",
    "mean_linear_sum_assignment = get_mean_score(iters, optimize_team_project_distribution, False)\n",
    "print(f'1. linear_sum_assignment mean score {mean_linear_sum_assignment}')\n",
    "\n",
    "mean_random = get_mean_score(iters, random_team_project_distribution, True)\n",
    "print(f'2. random mean score {mean_random}')\n",
    "\n",
    "mean_ga = get_mean_score(iters, GA, True)\n",
    "print(f'3. genetic alghoritm mean score {mean_ga}')\n",
    "\n",
    "# mean_optimal_project_assignment = get_mean_score(iters, optimal_project_assignment, False)\n",
    "# print(f'5. optimal_project_assignment mean score {mean_optimal_project_assignment}')\n",
    "\n",
    "mean_recommend_projects = get_mean_score(iters, recommend_projects, True)\n",
    "print(f'6. recommend_projects mean score {mean_recommend_projects}')\n",
    "\n",
    "mean_board_voting = get_mean_score(iters, board_voting, True)\n",
    "print(f'7. board_voting mean score {mean_board_voting}')"
   ]
  },
  {
   "cell_type": "code",
   "execution_count": null,
   "id": "26053dd5",
   "metadata": {},
   "outputs": [],
   "source": []
  }
 ],
 "metadata": {
  "kernelspec": {
   "display_name": "Python 3 (ipykernel)",
   "language": "python",
   "name": "python3"
  },
  "language_info": {
   "codemirror_mode": {
    "name": "ipython",
    "version": 3
   },
   "file_extension": ".py",
   "mimetype": "text/x-python",
   "name": "python",
   "nbconvert_exporter": "python",
   "pygments_lexer": "ipython3",
   "version": "3.11.3"
  }
 },
 "nbformat": 4,
 "nbformat_minor": 5
}
