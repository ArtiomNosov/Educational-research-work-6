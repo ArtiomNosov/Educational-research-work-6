{
 "cells": [
  {
   "cell_type": "code",
   "execution_count": 1,
   "id": "b5b958e1",
   "metadata": {},
   "outputs": [],
   "source": [
    "import requests"
   ]
  },
  {
   "cell_type": "code",
   "execution_count": 17,
   "id": "647b9709",
   "metadata": {},
   "outputs": [],
   "source": [
    "api_token = \"example_token\"\n",
    "base_url = \"https://api.clickup.com/api/v2/team/\""
   ]
  },
  {
   "cell_type": "code",
   "execution_count": 4,
   "id": "ca0d29fc",
   "metadata": {},
   "outputs": [
    {
     "name": "stdout",
     "output_type": "stream",
     "text": [
      "Workspace ID: 9002089737, Workspace Name: Continue\n"
     ]
    }
   ],
   "source": [
    "def get_workspaces():\n",
    "    url = 'https://api.clickup.com/api/v2/team'\n",
    "    headers = {'Authorization': api_token}\n",
    "\n",
    "    response = requests.get(url, headers=headers)\n",
    "    if response.status_code == 200:\n",
    "        data = response.json()\n",
    "        workspaces = data['teams']\n",
    "        return workspaces\n",
    "    else:\n",
    "        print('Failed to fetch workspaces.')\n",
    "        return []\n",
    "\n",
    "workspaces = get_workspaces()\n",
    "for workspace in workspaces:\n",
    "    workspace_id = workspace['id']\n",
    "    workspace_name = workspace['name']\n",
    "    print(f'Workspace ID: {workspace_id}, Workspace Name: {workspace_name}')"
   ]
  },
  {
   "cell_type": "code",
   "execution_count": 10,
   "id": "d2536eef",
   "metadata": {},
   "outputs": [
    {
     "name": "stdout",
     "output_type": "stream",
     "text": [
      "Создан новый Space с ID: 90020186680\n"
     ]
    }
   ],
   "source": [
    "import requests\n",
    "\n",
    "workspace_id = '9002089737'\n",
    "\n",
    "url = f'https://api.clickup.com/api/v2/team/{workspace_id}/space'\n",
    "\n",
    "# Название нового Space\n",
    "space_name = 'Название нового Space'\n",
    "\n",
    "# Параметры запроса для создания нового Space\n",
    "params = {\n",
    "    'name': space_name\n",
    "}\n",
    "\n",
    "# Заголовки запроса с авторизационным токеном\n",
    "headers = {\n",
    "    'Authorization': api_token\n",
    "}\n",
    "\n",
    "# Отправка POST-запроса для создания нового Space\n",
    "response = requests.post(url, json=params, headers=headers)\n",
    "\n",
    "# Проверка статуса ответа\n",
    "if response.status_code == 200:\n",
    "    space_id = response.json()['id']\n",
    "    print(f'Создан новый Space с ID: {space_id}')\n",
    "else:\n",
    "    print(f'Ошибка при создании Space {response.status_code}')"
   ]
  },
  {
   "cell_type": "code",
   "execution_count": 24,
   "id": "f143a099",
   "metadata": {},
   "outputs": [],
   "source": [
    "# Создание задачи\n",
    "def create_task(task_name, SPACE_ID, LIST_ID): \n",
    "    # Установка заголовков запроса, включая авторизационный токен \n",
    "    headers = {\"Authorization\": api_token} \n",
    "    data = {\n",
    "        # Название задачи\n",
    "        \"name\": task_name,  \n",
    "        # Содержание задачи\n",
    "        \"content\": \"Техническое задание для проекта\",  \n",
    "        # Описание задачи\n",
    "        \"description\": \"Составить техническое задание для проекта\",  \n",
    "        # Идентификатор рабочего пространства\n",
    "        \"space_id\": f\"<{SPACE_ID}>\",  \n",
    "        # Список назначенных лиц (пока пустой)\n",
    "        \"assignees\": [],  \n",
    "        # Статус задачи\n",
    "        \"status\": \"Open\",  \n",
    "        # Приоритет задачи\n",
    "        \"priority\": 3  \n",
    "    }\n",
    "\n",
    "    # Выполнение POST-запроса для создания задачи\n",
    "    response = requests.post(f'https://api.clickup.com/api/v2/list/{LIST_ID}/task', headers=headers, json=data)\n",
    "    # Проверка статус кода ответа \n",
    "    if response.status_code == 201:  \n",
    "        # Вывод сообщения об успешном создании задачи\n",
    "        print(f\"Задача '{task_name}' успешно создано.\")  \n",
    "    else:\n",
    "        # Вывод сообщения об ошибке и указание кода ошибки\n",
    "        print(f\"Ошибка'{team_name}'. {response.status_code}\")  \n"
   ]
  },
  {
   "cell_type": "code",
   "execution_count": 12,
   "id": "7296ff64",
   "metadata": {},
   "outputs": [],
   "source": [
    "# Здесь должен быть код для получения списка команд, студентов, руководителей и организаторов из БД или другого источника.\n",
    "\n",
    "# Пример данных\n",
    "teams = [\n",
    "    {\"team_name\": \"Команда 1\", \"students\": [\"student1@example.com\", \"student2@example.com\"], \"leader\": \"leader1@example.com\"},\n",
    "    {\"team_name\": \"Команда 2\", \"students\": [\"student3@example.com\", \"student4@example.com\"], \"leader\": \"leader2@example.com\"},\n",
    "]"
   ]
  },
  {
   "cell_type": "code",
   "execution_count": 39,
   "id": "93a79281",
   "metadata": {},
   "outputs": [
    {
     "name": "stdout",
     "output_type": "stream",
     "text": [
      "Задача успешно создана!\n",
      "Идентификатор созданной задачи: 85zt276kz\n"
     ]
    }
   ],
   "source": [
    "space_id = 90020186680\n",
    "\n",
    "list_id = 900200802545\n",
    "\n",
    "task_name = 'YOUR_TASK_NAME'\n",
    "\n",
    "# Создание задачи\n",
    "url = \"https://api.clickup.com/api/v2/list/\" + str(list_id) + \"/task\"\n",
    "headers = {'Authorization': api_token}\n",
    "data = {'name': task_name}\n",
    "\n",
    "response = requests.post(url, headers=headers, json=data)\n",
    "\n",
    "if response.status_code == 200:\n",
    "    print('Задача успешно создана!')\n",
    "    task_id = response.json()['id']\n",
    "    print(f'Идентификатор созданной задачи: {task_id}')\n",
    "else:\n",
    "    print('Ошибка при создании задачи.')\n",
    "    print(f'Статус код: {response.status_code}')\n",
    "    print(f'Ответ сервера: {response.text}')"
   ]
  },
  {
   "cell_type": "code",
   "execution_count": 29,
   "id": "8290f1c1",
   "metadata": {},
   "outputs": [
    {
     "name": "stdout",
     "output_type": "stream",
     "text": [
      "{'err': 'Team must be on enterprise plan', 'ECODE': 'TEAM_110'}\n"
     ]
    }
   ],
   "source": [
    "import requests\n",
    "\n",
    "url = \"https://api.clickup.com/api/v2/team/\" + team_id + \"/user\"\n",
    "\n",
    "payload = {\n",
    "  \"email\": \"user@example.com\",\n",
    "  \"admin\": True,\n",
    "  \"custom_role_id\": 112233\n",
    "}\n",
    "\n",
    "headers = {\n",
    "  \"Content-Type\": \"application/json\",\n",
    "  \"Authorization\": api_token\n",
    "}\n",
    "\n",
    "response = requests.post(url, json=payload, headers=headers)\n",
    "\n",
    "data = response.json()\n",
    "print(data)"
   ]
  },
  {
   "cell_type": "code",
   "execution_count": 28,
   "id": "f2210e87",
   "metadata": {},
   "outputs": [
    {
     "data": {
      "text/plain": [
       "404"
      ]
     },
     "execution_count": 28,
     "metadata": {},
     "output_type": "execute_result"
    }
   ],
   "source": [
    "response.status_code"
   ]
  }
 ],
 "metadata": {
  "kernelspec": {
   "display_name": "Python 3 (ipykernel)",
   "language": "python",
   "name": "python3"
  },
  "language_info": {
   "codemirror_mode": {
    "name": "ipython",
    "version": 3
   },
   "file_extension": ".py",
   "mimetype": "text/x-python",
   "name": "python",
   "nbconvert_exporter": "python",
   "pygments_lexer": "ipython3",
   "version": "3.11.3"
  }
 },
 "nbformat": 4,
 "nbformat_minor": 5
}
